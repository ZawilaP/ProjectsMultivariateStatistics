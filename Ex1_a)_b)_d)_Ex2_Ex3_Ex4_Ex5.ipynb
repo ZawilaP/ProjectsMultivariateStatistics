{
 "cells": [
  {
   "cell_type": "code",
   "execution_count": 1,
   "metadata": {},
   "outputs": [],
   "source": [
    "\"\"\" Imports of Python Libraries \"\"\"\n",
    "import pandas as pd\n",
    "import numpy as np\n",
    "import matplotlib as plt\n",
    "import statsmodels.api as sm"
   ]
  },
  {
   "cell_type": "code",
   "execution_count": 2,
   "metadata": {},
   "outputs": [],
   "source": [
    "\"\"\" Loading Data \"\"\"\n",
    "bodyfat_data = pd.read_excel(r\"C:\\Users\\piotr\\Desktop\\Exam_Multivariate\\bodyfat2.XLS\")\n",
    "carmarks_data = pd.read_csv(r\"C:\\Users\\piotr\\Desktop\\Exam_Multivariate\\carmarks.txt\", sep = \";\")\n",
    "ozone_data = pd.read_csv(r\"C:\\Users\\piotr\\Desktop\\Exam_Multivariate\\ozone.csv\")\n",
    "primate_data = pd.read_excel(r\"C:\\Users\\piotr\\Desktop\\Exam_Multivariate\\primate.scapulae.xls\")"
   ]
  },
  {
   "cell_type": "markdown",
   "metadata": {},
   "source": [
    "**Excercise 1**\n",
    "\n",
    "The file bodyfat2.XLS contains measurements of the percentage of bodyfat for 252 men. The Y-variable is the bodyfat percentage. There are 13 explanatory variables (X-variables).\n",
    "\n",
    "**(a)** Consider the correlations between the 13 explanatory variables. Are there grounds to suspect ill-conditioning?"
   ]
  },
  {
   "cell_type": "code",
   "execution_count": 3,
   "metadata": {},
   "outputs": [
    {
     "name": "stdout",
     "output_type": "stream",
     "text": [
      "   density  bodyfat  age  weight  height  neck  chest  abdomen    hip  thigh  \\\n",
      "0   1.0708     12.3   23  154.25   67.75  36.2   93.1     85.2   94.5   59.0   \n",
      "1   1.0853      6.1   22  173.25   72.25  38.5   93.6     83.0   98.7   58.7   \n",
      "2   1.0414     25.3   22  154.00   66.25  34.0   95.8     87.9   99.2   59.6   \n",
      "3   1.0751     10.4   26  184.75   72.25  37.4  101.8     86.4  101.2   60.1   \n",
      "4   1.0340     28.7   24  184.25   71.25  34.4   97.3    100.0  101.9   63.2   \n",
      "\n",
      "   knee  ankle  biceps  forearm  wrist  \n",
      "0  37.3   21.9    32.0     27.4   17.1  \n",
      "1  37.3   23.4    30.5     28.9   18.2  \n",
      "2  38.9   24.0    28.8     25.2   16.6  \n",
      "3  37.3   22.8    32.4     29.4   18.2  \n",
      "4  42.2   24.0    32.2     27.7   17.7  \n",
      "(252, 15)\n"
     ]
    }
   ],
   "source": [
    "print(bodyfat_data.head())\n",
    "print(bodyfat_data.shape)"
   ]
  },
  {
   "cell_type": "code",
   "execution_count": 4,
   "metadata": {},
   "outputs": [
    {
     "data": {
      "text/html": [
       "<style  type=\"text/css\" >\n",
       "    #T_99bc6808_491e_11ea_8178_a81e8416c6abrow0_col0 {\n",
       "            background-color:  #b40426;\n",
       "            color:  #f1f1f1;\n",
       "        }    #T_99bc6808_491e_11ea_8178_a81e8416c6abrow0_col1 {\n",
       "            background-color:  #3b4cc0;\n",
       "            color:  #f1f1f1;\n",
       "        }    #T_99bc6808_491e_11ea_8178_a81e8416c6abrow0_col2 {\n",
       "            background-color:  #3b4cc0;\n",
       "            color:  #f1f1f1;\n",
       "        }    #T_99bc6808_491e_11ea_8178_a81e8416c6abrow0_col3 {\n",
       "            background-color:  #3b4cc0;\n",
       "            color:  #f1f1f1;\n",
       "        }    #T_99bc6808_491e_11ea_8178_a81e8416c6abrow0_col4 {\n",
       "            background-color:  #3b4cc0;\n",
       "            color:  #f1f1f1;\n",
       "        }    #T_99bc6808_491e_11ea_8178_a81e8416c6abrow0_col5 {\n",
       "            background-color:  #4961d2;\n",
       "            color:  #f1f1f1;\n",
       "        }    #T_99bc6808_491e_11ea_8178_a81e8416c6abrow0_col6 {\n",
       "            background-color:  #3b4cc0;\n",
       "            color:  #f1f1f1;\n",
       "        }    #T_99bc6808_491e_11ea_8178_a81e8416c6abrow0_col7 {\n",
       "            background-color:  #3b4cc0;\n",
       "            color:  #f1f1f1;\n",
       "        }    #T_99bc6808_491e_11ea_8178_a81e8416c6abrow0_col8 {\n",
       "            background-color:  #3b4cc0;\n",
       "            color:  #f1f1f1;\n",
       "        }    #T_99bc6808_491e_11ea_8178_a81e8416c6abrow0_col9 {\n",
       "            background-color:  #3b4cc0;\n",
       "            color:  #f1f1f1;\n",
       "        }    #T_99bc6808_491e_11ea_8178_a81e8416c6abrow0_col10 {\n",
       "            background-color:  #3b4cc0;\n",
       "            color:  #f1f1f1;\n",
       "        }    #T_99bc6808_491e_11ea_8178_a81e8416c6abrow0_col11 {\n",
       "            background-color:  #3b4cc0;\n",
       "            color:  #f1f1f1;\n",
       "        }    #T_99bc6808_491e_11ea_8178_a81e8416c6abrow0_col12 {\n",
       "            background-color:  #3b4cc0;\n",
       "            color:  #f1f1f1;\n",
       "        }    #T_99bc6808_491e_11ea_8178_a81e8416c6abrow1_col0 {\n",
       "            background-color:  #7699f6;\n",
       "            color:  #000000;\n",
       "        }    #T_99bc6808_491e_11ea_8178_a81e8416c6abrow1_col1 {\n",
       "            background-color:  #b40426;\n",
       "            color:  #f1f1f1;\n",
       "        }    #T_99bc6808_491e_11ea_8178_a81e8416c6abrow1_col2 {\n",
       "            background-color:  #f0cdbb;\n",
       "            color:  #000000;\n",
       "        }    #T_99bc6808_491e_11ea_8178_a81e8416c6abrow1_col3 {\n",
       "            background-color:  #ec7f63;\n",
       "            color:  #000000;\n",
       "        }    #T_99bc6808_491e_11ea_8178_a81e8416c6abrow1_col4 {\n",
       "            background-color:  #de614d;\n",
       "            color:  #000000;\n",
       "        }    #T_99bc6808_491e_11ea_8178_a81e8416c6abrow1_col5 {\n",
       "            background-color:  #e16751;\n",
       "            color:  #000000;\n",
       "        }    #T_99bc6808_491e_11ea_8178_a81e8416c6abrow1_col6 {\n",
       "            background-color:  #c83836;\n",
       "            color:  #f1f1f1;\n",
       "        }    #T_99bc6808_491e_11ea_8178_a81e8416c6abrow1_col7 {\n",
       "            background-color:  #d95847;\n",
       "            color:  #000000;\n",
       "        }    #T_99bc6808_491e_11ea_8178_a81e8416c6abrow1_col8 {\n",
       "            background-color:  #e36c55;\n",
       "            color:  #000000;\n",
       "        }    #T_99bc6808_491e_11ea_8178_a81e8416c6abrow1_col9 {\n",
       "            background-color:  #f6bda2;\n",
       "            color:  #000000;\n",
       "        }    #T_99bc6808_491e_11ea_8178_a81e8416c6abrow1_col10 {\n",
       "            background-color:  #ec8165;\n",
       "            color:  #000000;\n",
       "        }    #T_99bc6808_491e_11ea_8178_a81e8416c6abrow1_col11 {\n",
       "            background-color:  #f7ba9f;\n",
       "            color:  #000000;\n",
       "        }    #T_99bc6808_491e_11ea_8178_a81e8416c6abrow1_col12 {\n",
       "            background-color:  #f7ba9f;\n",
       "            color:  #000000;\n",
       "        }    #T_99bc6808_491e_11ea_8178_a81e8416c6abrow2_col0 {\n",
       "            background-color:  #3b4cc0;\n",
       "            color:  #f1f1f1;\n",
       "        }    #T_99bc6808_491e_11ea_8178_a81e8416c6abrow2_col1 {\n",
       "            background-color:  #dbdcde;\n",
       "            color:  #000000;\n",
       "        }    #T_99bc6808_491e_11ea_8178_a81e8416c6abrow2_col2 {\n",
       "            background-color:  #b40426;\n",
       "            color:  #f1f1f1;\n",
       "        }    #T_99bc6808_491e_11ea_8178_a81e8416c6abrow2_col3 {\n",
       "            background-color:  #86a9fc;\n",
       "            color:  #000000;\n",
       "        }    #T_99bc6808_491e_11ea_8178_a81e8416c6abrow2_col4 {\n",
       "            background-color:  #4c66d6;\n",
       "            color:  #000000;\n",
       "        }    #T_99bc6808_491e_11ea_8178_a81e8416c6abrow2_col5 {\n",
       "            background-color:  #3b4cc0;\n",
       "            color:  #f1f1f1;\n",
       "        }    #T_99bc6808_491e_11ea_8178_a81e8416c6abrow2_col6 {\n",
       "            background-color:  #c0d4f5;\n",
       "            color:  #000000;\n",
       "        }    #T_99bc6808_491e_11ea_8178_a81e8416c6abrow2_col7 {\n",
       "            background-color:  #cedaeb;\n",
       "            color:  #000000;\n",
       "        }    #T_99bc6808_491e_11ea_8178_a81e8416c6abrow2_col8 {\n",
       "            background-color:  #dadce0;\n",
       "            color:  #000000;\n",
       "        }    #T_99bc6808_491e_11ea_8178_a81e8416c6abrow2_col9 {\n",
       "            background-color:  #cfdaea;\n",
       "            color:  #000000;\n",
       "        }    #T_99bc6808_491e_11ea_8178_a81e8416c6abrow2_col10 {\n",
       "            background-color:  #aec9fc;\n",
       "            color:  #000000;\n",
       "        }    #T_99bc6808_491e_11ea_8178_a81e8416c6abrow2_col11 {\n",
       "            background-color:  #b9d0f9;\n",
       "            color:  #000000;\n",
       "        }    #T_99bc6808_491e_11ea_8178_a81e8416c6abrow2_col12 {\n",
       "            background-color:  #86a9fc;\n",
       "            color:  #000000;\n",
       "        }    #T_99bc6808_491e_11ea_8178_a81e8416c6abrow3_col0 {\n",
       "            background-color:  #9abbff;\n",
       "            color:  #000000;\n",
       "        }    #T_99bc6808_491e_11ea_8178_a81e8416c6abrow3_col1 {\n",
       "            background-color:  #e7745b;\n",
       "            color:  #000000;\n",
       "        }    #T_99bc6808_491e_11ea_8178_a81e8416c6abrow3_col2 {\n",
       "            background-color:  #d1dae9;\n",
       "            color:  #000000;\n",
       "        }    #T_99bc6808_491e_11ea_8178_a81e8416c6abrow3_col3 {\n",
       "            background-color:  #b40426;\n",
       "            color:  #f1f1f1;\n",
       "        }    #T_99bc6808_491e_11ea_8178_a81e8416c6abrow3_col4 {\n",
       "            background-color:  #f59d7e;\n",
       "            color:  #000000;\n",
       "        }    #T_99bc6808_491e_11ea_8178_a81e8416c6abrow3_col5 {\n",
       "            background-color:  #f7ad90;\n",
       "            color:  #000000;\n",
       "        }    #T_99bc6808_491e_11ea_8178_a81e8416c6abrow3_col6 {\n",
       "            background-color:  #f49a7b;\n",
       "            color:  #000000;\n",
       "        }    #T_99bc6808_491e_11ea_8178_a81e8416c6abrow3_col7 {\n",
       "            background-color:  #f49a7b;\n",
       "            color:  #000000;\n",
       "        }    #T_99bc6808_491e_11ea_8178_a81e8416c6abrow3_col8 {\n",
       "            background-color:  #f7b89c;\n",
       "            color:  #000000;\n",
       "        }    #T_99bc6808_491e_11ea_8178_a81e8416c6abrow3_col9 {\n",
       "            background-color:  #e4d9d2;\n",
       "            color:  #000000;\n",
       "        }    #T_99bc6808_491e_11ea_8178_a81e8416c6abrow3_col10 {\n",
       "            background-color:  #f59d7e;\n",
       "            color:  #000000;\n",
       "        }    #T_99bc6808_491e_11ea_8178_a81e8416c6abrow3_col11 {\n",
       "            background-color:  #f7bca1;\n",
       "            color:  #000000;\n",
       "        }    #T_99bc6808_491e_11ea_8178_a81e8416c6abrow3_col12 {\n",
       "            background-color:  #f7b599;\n",
       "            color:  #000000;\n",
       "        }    #T_99bc6808_491e_11ea_8178_a81e8416c6abrow4_col0 {\n",
       "            background-color:  #abc8fd;\n",
       "            color:  #000000;\n",
       "        }    #T_99bc6808_491e_11ea_8178_a81e8416c6abrow4_col1 {\n",
       "            background-color:  #d75445;\n",
       "            color:  #000000;\n",
       "        }    #T_99bc6808_491e_11ea_8178_a81e8416c6abrow4_col2 {\n",
       "            background-color:  #bad0f8;\n",
       "            color:  #000000;\n",
       "        }    #T_99bc6808_491e_11ea_8178_a81e8416c6abrow4_col3 {\n",
       "            background-color:  #f39778;\n",
       "            color:  #000000;\n",
       "        }    #T_99bc6808_491e_11ea_8178_a81e8416c6abrow4_col4 {\n",
       "            background-color:  #b40426;\n",
       "            color:  #f1f1f1;\n",
       "        }    #T_99bc6808_491e_11ea_8178_a81e8416c6abrow4_col5 {\n",
       "            background-color:  #d75445;\n",
       "            color:  #000000;\n",
       "        }    #T_99bc6808_491e_11ea_8178_a81e8416c6abrow4_col6 {\n",
       "            background-color:  #e67259;\n",
       "            color:  #000000;\n",
       "        }    #T_99bc6808_491e_11ea_8178_a81e8416c6abrow4_col7 {\n",
       "            background-color:  #f18f71;\n",
       "            color:  #000000;\n",
       "        }    #T_99bc6808_491e_11ea_8178_a81e8416c6abrow4_col8 {\n",
       "            background-color:  #f7a889;\n",
       "            color:  #000000;\n",
       "        }    #T_99bc6808_491e_11ea_8178_a81e8416c6abrow4_col9 {\n",
       "            background-color:  #e5d8d1;\n",
       "            color:  #000000;\n",
       "        }    #T_99bc6808_491e_11ea_8178_a81e8416c6abrow4_col10 {\n",
       "            background-color:  #f59d7e;\n",
       "            color:  #000000;\n",
       "        }    #T_99bc6808_491e_11ea_8178_a81e8416c6abrow4_col11 {\n",
       "            background-color:  #f3c8b2;\n",
       "            color:  #000000;\n",
       "        }    #T_99bc6808_491e_11ea_8178_a81e8416c6abrow4_col12 {\n",
       "            background-color:  #edd2c3;\n",
       "            color:  #000000;\n",
       "        }    #T_99bc6808_491e_11ea_8178_a81e8416c6abrow5_col0 {\n",
       "            background-color:  #bad0f8;\n",
       "            color:  #000000;\n",
       "        }    #T_99bc6808_491e_11ea_8178_a81e8416c6abrow5_col1 {\n",
       "            background-color:  #d95847;\n",
       "            color:  #000000;\n",
       "        }    #T_99bc6808_491e_11ea_8178_a81e8416c6abrow5_col2 {\n",
       "            background-color:  #afcafc;\n",
       "            color:  #000000;\n",
       "        }    #T_99bc6808_491e_11ea_8178_a81e8416c6abrow5_col3 {\n",
       "            background-color:  #f6a586;\n",
       "            color:  #000000;\n",
       "        }    #T_99bc6808_491e_11ea_8178_a81e8416c6abrow5_col4 {\n",
       "            background-color:  #d75445;\n",
       "            color:  #000000;\n",
       "        }    #T_99bc6808_491e_11ea_8178_a81e8416c6abrow5_col5 {\n",
       "            background-color:  #b40426;\n",
       "            color:  #f1f1f1;\n",
       "        }    #T_99bc6808_491e_11ea_8178_a81e8416c6abrow5_col6 {\n",
       "            background-color:  #dc5d4a;\n",
       "            color:  #000000;\n",
       "        }    #T_99bc6808_491e_11ea_8178_a81e8416c6abrow5_col7 {\n",
       "            background-color:  #ec8165;\n",
       "            color:  #000000;\n",
       "        }    #T_99bc6808_491e_11ea_8178_a81e8416c6abrow5_col8 {\n",
       "            background-color:  #f5a081;\n",
       "            color:  #000000;\n",
       "        }    #T_99bc6808_491e_11ea_8178_a81e8416c6abrow5_col9 {\n",
       "            background-color:  #dedcdb;\n",
       "            color:  #000000;\n",
       "        }    #T_99bc6808_491e_11ea_8178_a81e8416c6abrow5_col10 {\n",
       "            background-color:  #f7ad90;\n",
       "            color:  #000000;\n",
       "        }    #T_99bc6808_491e_11ea_8178_a81e8416c6abrow5_col11 {\n",
       "            background-color:  #e7d7ce;\n",
       "            color:  #000000;\n",
       "        }    #T_99bc6808_491e_11ea_8178_a81e8416c6abrow5_col12 {\n",
       "            background-color:  #e1dad6;\n",
       "            color:  #000000;\n",
       "        }    #T_99bc6808_491e_11ea_8178_a81e8416c6abrow6_col0 {\n",
       "            background-color:  #6c8ff1;\n",
       "            color:  #000000;\n",
       "        }    #T_99bc6808_491e_11ea_8178_a81e8416c6abrow6_col1 {\n",
       "            background-color:  #c83836;\n",
       "            color:  #f1f1f1;\n",
       "        }    #T_99bc6808_491e_11ea_8178_a81e8416c6abrow6_col2 {\n",
       "            background-color:  #dbdcde;\n",
       "            color:  #000000;\n",
       "        }    #T_99bc6808_491e_11ea_8178_a81e8416c6abrow6_col3 {\n",
       "            background-color:  #f7ac8e;\n",
       "            color:  #000000;\n",
       "        }    #T_99bc6808_491e_11ea_8178_a81e8416c6abrow6_col4 {\n",
       "            background-color:  #ef886b;\n",
       "            color:  #000000;\n",
       "        }    #T_99bc6808_491e_11ea_8178_a81e8416c6abrow6_col5 {\n",
       "            background-color:  #e46e56;\n",
       "            color:  #000000;\n",
       "        }    #T_99bc6808_491e_11ea_8178_a81e8416c6abrow6_col6 {\n",
       "            background-color:  #b40426;\n",
       "            color:  #f1f1f1;\n",
       "        }    #T_99bc6808_491e_11ea_8178_a81e8416c6abrow6_col7 {\n",
       "            background-color:  #d24b40;\n",
       "            color:  #f1f1f1;\n",
       "        }    #T_99bc6808_491e_11ea_8178_a81e8416c6abrow6_col8 {\n",
       "            background-color:  #e97a5f;\n",
       "            color:  #000000;\n",
       "        }    #T_99bc6808_491e_11ea_8178_a81e8416c6abrow6_col9 {\n",
       "            background-color:  #f2cbb7;\n",
       "            color:  #000000;\n",
       "        }    #T_99bc6808_491e_11ea_8178_a81e8416c6abrow6_col10 {\n",
       "            background-color:  #f49a7b;\n",
       "            color:  #000000;\n",
       "        }    #T_99bc6808_491e_11ea_8178_a81e8416c6abrow6_col11 {\n",
       "            background-color:  #efcfbf;\n",
       "            color:  #000000;\n",
       "        }    #T_99bc6808_491e_11ea_8178_a81e8416c6abrow6_col12 {\n",
       "            background-color:  #e4d9d2;\n",
       "            color:  #000000;\n",
       "        }    #T_99bc6808_491e_11ea_8178_a81e8416c6abrow7_col0 {\n",
       "            background-color:  #455cce;\n",
       "            color:  #f1f1f1;\n",
       "        }    #T_99bc6808_491e_11ea_8178_a81e8416c6abrow7_col1 {\n",
       "            background-color:  #df634e;\n",
       "            color:  #000000;\n",
       "        }    #T_99bc6808_491e_11ea_8178_a81e8416c6abrow7_col2 {\n",
       "            background-color:  #d5dbe5;\n",
       "            color:  #000000;\n",
       "        }    #T_99bc6808_491e_11ea_8178_a81e8416c6abrow7_col3 {\n",
       "            background-color:  #f7ba9f;\n",
       "            color:  #000000;\n",
       "        }    #T_99bc6808_491e_11ea_8178_a81e8416c6abrow7_col4 {\n",
       "            background-color:  #f7b599;\n",
       "            color:  #000000;\n",
       "        }    #T_99bc6808_491e_11ea_8178_a81e8416c6abrow7_col5 {\n",
       "            background-color:  #f7a889;\n",
       "            color:  #000000;\n",
       "        }    #T_99bc6808_491e_11ea_8178_a81e8416c6abrow7_col6 {\n",
       "            background-color:  #d65244;\n",
       "            color:  #000000;\n",
       "        }    #T_99bc6808_491e_11ea_8178_a81e8416c6abrow7_col7 {\n",
       "            background-color:  #b40426;\n",
       "            color:  #f1f1f1;\n",
       "        }    #T_99bc6808_491e_11ea_8178_a81e8416c6abrow7_col8 {\n",
       "            background-color:  #ee8669;\n",
       "            color:  #000000;\n",
       "        }    #T_99bc6808_491e_11ea_8178_a81e8416c6abrow7_col9 {\n",
       "            background-color:  #efcebd;\n",
       "            color:  #000000;\n",
       "        }    #T_99bc6808_491e_11ea_8178_a81e8416c6abrow7_col10 {\n",
       "            background-color:  #f29072;\n",
       "            color:  #000000;\n",
       "        }    #T_99bc6808_491e_11ea_8178_a81e8416c6abrow7_col11 {\n",
       "            background-color:  #f2cbb7;\n",
       "            color:  #000000;\n",
       "        }    #T_99bc6808_491e_11ea_8178_a81e8416c6abrow7_col12 {\n",
       "            background-color:  #ccd9ed;\n",
       "            color:  #000000;\n",
       "        }    #T_99bc6808_491e_11ea_8178_a81e8416c6abrow8_col0 {\n",
       "            background-color:  #80a3fa;\n",
       "            color:  #000000;\n",
       "        }    #T_99bc6808_491e_11ea_8178_a81e8416c6abrow8_col1 {\n",
       "            background-color:  #e36b54;\n",
       "            color:  #000000;\n",
       "        }    #T_99bc6808_491e_11ea_8178_a81e8416c6abrow8_col2 {\n",
       "            background-color:  #f2cbb7;\n",
       "            color:  #000000;\n",
       "        }    #T_99bc6808_491e_11ea_8178_a81e8416c6abrow8_col3 {\n",
       "            background-color:  #f5c2aa;\n",
       "            color:  #000000;\n",
       "        }    #T_99bc6808_491e_11ea_8178_a81e8416c6abrow8_col4 {\n",
       "            background-color:  #f7ba9f;\n",
       "            color:  #000000;\n",
       "        }    #T_99bc6808_491e_11ea_8178_a81e8416c6abrow8_col5 {\n",
       "            background-color:  #f7b599;\n",
       "            color:  #000000;\n",
       "        }    #T_99bc6808_491e_11ea_8178_a81e8416c6abrow8_col6 {\n",
       "            background-color:  #e8765c;\n",
       "            color:  #000000;\n",
       "        }    #T_99bc6808_491e_11ea_8178_a81e8416c6abrow8_col7 {\n",
       "            background-color:  #e7745b;\n",
       "            color:  #000000;\n",
       "        }    #T_99bc6808_491e_11ea_8178_a81e8416c6abrow8_col8 {\n",
       "            background-color:  #b40426;\n",
       "            color:  #f1f1f1;\n",
       "        }    #T_99bc6808_491e_11ea_8178_a81e8416c6abrow8_col9 {\n",
       "            background-color:  #f6bda2;\n",
       "            color:  #000000;\n",
       "        }    #T_99bc6808_491e_11ea_8178_a81e8416c6abrow8_col10 {\n",
       "            background-color:  #f7af91;\n",
       "            color:  #000000;\n",
       "        }    #T_99bc6808_491e_11ea_8178_a81e8416c6abrow8_col11 {\n",
       "            background-color:  #f1cdba;\n",
       "            color:  #000000;\n",
       "        }    #T_99bc6808_491e_11ea_8178_a81e8416c6abrow8_col12 {\n",
       "            background-color:  #edd1c2;\n",
       "            color:  #000000;\n",
       "        }    #T_99bc6808_491e_11ea_8178_a81e8416c6abrow9_col0 {\n",
       "            background-color:  #5d7ce6;\n",
       "            color:  #000000;\n",
       "        }    #T_99bc6808_491e_11ea_8178_a81e8416c6abrow9_col1 {\n",
       "            background-color:  #f4c6af;\n",
       "            color:  #000000;\n",
       "        }    #T_99bc6808_491e_11ea_8178_a81e8416c6abrow9_col2 {\n",
       "            background-color:  #e0dbd8;\n",
       "            color:  #000000;\n",
       "        }    #T_99bc6808_491e_11ea_8178_a81e8416c6abrow9_col3 {\n",
       "            background-color:  #c4d5f3;\n",
       "            color:  #000000;\n",
       "        }    #T_99bc6808_491e_11ea_8178_a81e8416c6abrow9_col4 {\n",
       "            background-color:  #b7cff9;\n",
       "            color:  #000000;\n",
       "        }    #T_99bc6808_491e_11ea_8178_a81e8416c6abrow9_col5 {\n",
       "            background-color:  #a7c5fe;\n",
       "            color:  #000000;\n",
       "        }    #T_99bc6808_491e_11ea_8178_a81e8416c6abrow9_col6 {\n",
       "            background-color:  #efcfbf;\n",
       "            color:  #000000;\n",
       "        }    #T_99bc6808_491e_11ea_8178_a81e8416c6abrow9_col7 {\n",
       "            background-color:  #f3c7b1;\n",
       "            color:  #000000;\n",
       "        }    #T_99bc6808_491e_11ea_8178_a81e8416c6abrow9_col8 {\n",
       "            background-color:  #f2cab5;\n",
       "            color:  #000000;\n",
       "        }    #T_99bc6808_491e_11ea_8178_a81e8416c6abrow9_col9 {\n",
       "            background-color:  #b40426;\n",
       "            color:  #f1f1f1;\n",
       "        }    #T_99bc6808_491e_11ea_8178_a81e8416c6abrow9_col10 {\n",
       "            background-color:  #dedcdb;\n",
       "            color:  #000000;\n",
       "        }    #T_99bc6808_491e_11ea_8178_a81e8416c6abrow9_col11 {\n",
       "            background-color:  #d3dbe7;\n",
       "            color:  #000000;\n",
       "        }    #T_99bc6808_491e_11ea_8178_a81e8416c6abrow9_col12 {\n",
       "            background-color:  #cedaeb;\n",
       "            color:  #000000;\n",
       "        }    #T_99bc6808_491e_11ea_8178_a81e8416c6abrow10_col0 {\n",
       "            background-color:  #6e90f2;\n",
       "            color:  #000000;\n",
       "        }    #T_99bc6808_491e_11ea_8178_a81e8416c6abrow10_col1 {\n",
       "            background-color:  #ed8366;\n",
       "            color:  #000000;\n",
       "        }    #T_99bc6808_491e_11ea_8178_a81e8416c6abrow10_col2 {\n",
       "            background-color:  #cfdaea;\n",
       "            color:  #000000;\n",
       "        }    #T_99bc6808_491e_11ea_8178_a81e8416c6abrow10_col3 {\n",
       "            background-color:  #f7ad90;\n",
       "            color:  #000000;\n",
       "        }    #T_99bc6808_491e_11ea_8178_a81e8416c6abrow10_col4 {\n",
       "            background-color:  #f7b79b;\n",
       "            color:  #000000;\n",
       "        }    #T_99bc6808_491e_11ea_8178_a81e8416c6abrow10_col5 {\n",
       "            background-color:  #f3c8b2;\n",
       "            color:  #000000;\n",
       "        }    #T_99bc6808_491e_11ea_8178_a81e8416c6abrow10_col6 {\n",
       "            background-color:  #f4987a;\n",
       "            color:  #000000;\n",
       "        }    #T_99bc6808_491e_11ea_8178_a81e8416c6abrow10_col7 {\n",
       "            background-color:  #ed8366;\n",
       "            color:  #000000;\n",
       "        }    #T_99bc6808_491e_11ea_8178_a81e8416c6abrow10_col8 {\n",
       "            background-color:  #f7b599;\n",
       "            color:  #000000;\n",
       "        }    #T_99bc6808_491e_11ea_8178_a81e8416c6abrow10_col9 {\n",
       "            background-color:  #e5d8d1;\n",
       "            color:  #000000;\n",
       "        }    #T_99bc6808_491e_11ea_8178_a81e8416c6abrow10_col10 {\n",
       "            background-color:  #b40426;\n",
       "            color:  #f1f1f1;\n",
       "        }    #T_99bc6808_491e_11ea_8178_a81e8416c6abrow10_col11 {\n",
       "            background-color:  #f7aa8c;\n",
       "            color:  #000000;\n",
       "        }    #T_99bc6808_491e_11ea_8178_a81e8416c6abrow10_col12 {\n",
       "            background-color:  #e5d8d1;\n",
       "            color:  #000000;\n",
       "        }    #T_99bc6808_491e_11ea_8178_a81e8416c6abrow11_col0 {\n",
       "            background-color:  #6282ea;\n",
       "            color:  #000000;\n",
       "        }    #T_99bc6808_491e_11ea_8178_a81e8416c6abrow11_col1 {\n",
       "            background-color:  #f5c1a9;\n",
       "            color:  #000000;\n",
       "        }    #T_99bc6808_491e_11ea_8178_a81e8416c6abrow11_col2 {\n",
       "            background-color:  #d1dae9;\n",
       "            color:  #000000;\n",
       "        }    #T_99bc6808_491e_11ea_8178_a81e8416c6abrow11_col3 {\n",
       "            background-color:  #eed0c0;\n",
       "            color:  #000000;\n",
       "        }    #T_99bc6808_491e_11ea_8178_a81e8416c6abrow11_col4 {\n",
       "            background-color:  #dadce0;\n",
       "            color:  #000000;\n",
       "        }    #T_99bc6808_491e_11ea_8178_a81e8416c6abrow11_col5 {\n",
       "            background-color:  #bcd2f7;\n",
       "            color:  #000000;\n",
       "        }    #T_99bc6808_491e_11ea_8178_a81e8416c6abrow11_col6 {\n",
       "            background-color:  #edd2c3;\n",
       "            color:  #000000;\n",
       "        }    #T_99bc6808_491e_11ea_8178_a81e8416c6abrow11_col7 {\n",
       "            background-color:  #f5c0a7;\n",
       "            color:  #000000;\n",
       "        }    #T_99bc6808_491e_11ea_8178_a81e8416c6abrow11_col8 {\n",
       "            background-color:  #e9d5cb;\n",
       "            color:  #000000;\n",
       "        }    #T_99bc6808_491e_11ea_8178_a81e8416c6abrow11_col9 {\n",
       "            background-color:  #d6dce4;\n",
       "            color:  #000000;\n",
       "        }    #T_99bc6808_491e_11ea_8178_a81e8416c6abrow11_col10 {\n",
       "            background-color:  #f7b093;\n",
       "            color:  #000000;\n",
       "        }    #T_99bc6808_491e_11ea_8178_a81e8416c6abrow11_col11 {\n",
       "            background-color:  #b40426;\n",
       "            color:  #f1f1f1;\n",
       "        }    #T_99bc6808_491e_11ea_8178_a81e8416c6abrow11_col12 {\n",
       "            background-color:  #d6dce4;\n",
       "            color:  #000000;\n",
       "        }    #T_99bc6808_491e_11ea_8178_a81e8416c6abrow12_col0 {\n",
       "            background-color:  #b6cefa;\n",
       "            color:  #000000;\n",
       "        }    #T_99bc6808_491e_11ea_8178_a81e8416c6abrow12_col1 {\n",
       "            background-color:  #f5a081;\n",
       "            color:  #000000;\n",
       "        }    #T_99bc6808_491e_11ea_8178_a81e8416c6abrow12_col2 {\n",
       "            background-color:  #e1dad6;\n",
       "            color:  #000000;\n",
       "        }    #T_99bc6808_491e_11ea_8178_a81e8416c6abrow12_col3 {\n",
       "            background-color:  #f7a889;\n",
       "            color:  #000000;\n",
       "        }    #T_99bc6808_491e_11ea_8178_a81e8416c6abrow12_col4 {\n",
       "            background-color:  #f0cdbb;\n",
       "            color:  #000000;\n",
       "        }    #T_99bc6808_491e_11ea_8178_a81e8416c6abrow12_col5 {\n",
       "            background-color:  #e4d9d2;\n",
       "            color:  #000000;\n",
       "        }    #T_99bc6808_491e_11ea_8178_a81e8416c6abrow12_col6 {\n",
       "            background-color:  #f6bea4;\n",
       "            color:  #000000;\n",
       "        }    #T_99bc6808_491e_11ea_8178_a81e8416c6abrow12_col7 {\n",
       "            background-color:  #f5c2aa;\n",
       "            color:  #000000;\n",
       "        }    #T_99bc6808_491e_11ea_8178_a81e8416c6abrow12_col8 {\n",
       "            background-color:  #f7ba9f;\n",
       "            color:  #000000;\n",
       "        }    #T_99bc6808_491e_11ea_8178_a81e8416c6abrow12_col9 {\n",
       "            background-color:  #f2c9b4;\n",
       "            color:  #000000;\n",
       "        }    #T_99bc6808_491e_11ea_8178_a81e8416c6abrow12_col10 {\n",
       "            background-color:  #f6bea4;\n",
       "            color:  #000000;\n",
       "        }    #T_99bc6808_491e_11ea_8178_a81e8416c6abrow12_col11 {\n",
       "            background-color:  #f4c6af;\n",
       "            color:  #000000;\n",
       "        }    #T_99bc6808_491e_11ea_8178_a81e8416c6abrow12_col12 {\n",
       "            background-color:  #b40426;\n",
       "            color:  #f1f1f1;\n",
       "        }</style><table id=\"T_99bc6808_491e_11ea_8178_a81e8416c6ab\" ><thead>    <tr>        <th class=\"blank level0\" ></th>        <th class=\"col_heading level0 col0\" >age</th>        <th class=\"col_heading level0 col1\" >weight</th>        <th class=\"col_heading level0 col2\" >height</th>        <th class=\"col_heading level0 col3\" >neck</th>        <th class=\"col_heading level0 col4\" >chest</th>        <th class=\"col_heading level0 col5\" >abdomen</th>        <th class=\"col_heading level0 col6\" >hip</th>        <th class=\"col_heading level0 col7\" >thigh</th>        <th class=\"col_heading level0 col8\" >knee</th>        <th class=\"col_heading level0 col9\" >ankle</th>        <th class=\"col_heading level0 col10\" >biceps</th>        <th class=\"col_heading level0 col11\" >forearm</th>        <th class=\"col_heading level0 col12\" >wrist</th>    </tr></thead><tbody>\n",
       "                <tr>\n",
       "                        <th id=\"T_99bc6808_491e_11ea_8178_a81e8416c6ablevel0_row0\" class=\"row_heading level0 row0\" >age</th>\n",
       "                        <td id=\"T_99bc6808_491e_11ea_8178_a81e8416c6abrow0_col0\" class=\"data row0 col0\" >1</td>\n",
       "                        <td id=\"T_99bc6808_491e_11ea_8178_a81e8416c6abrow0_col1\" class=\"data row0 col1\" >-0.0127461</td>\n",
       "                        <td id=\"T_99bc6808_491e_11ea_8178_a81e8416c6abrow0_col2\" class=\"data row0 col2\" >-0.245212</td>\n",
       "                        <td id=\"T_99bc6808_491e_11ea_8178_a81e8416c6abrow0_col3\" class=\"data row0 col3\" >0.113505</td>\n",
       "                        <td id=\"T_99bc6808_491e_11ea_8178_a81e8416c6abrow0_col4\" class=\"data row0 col4\" >0.17645</td>\n",
       "                        <td id=\"T_99bc6808_491e_11ea_8178_a81e8416c6abrow0_col5\" class=\"data row0 col5\" >0.230409</td>\n",
       "                        <td id=\"T_99bc6808_491e_11ea_8178_a81e8416c6abrow0_col6\" class=\"data row0 col6\" >-0.0503321</td>\n",
       "                        <td id=\"T_99bc6808_491e_11ea_8178_a81e8416c6abrow0_col7\" class=\"data row0 col7\" >-0.200096</td>\n",
       "                        <td id=\"T_99bc6808_491e_11ea_8178_a81e8416c6abrow0_col8\" class=\"data row0 col8\" >0.0175157</td>\n",
       "                        <td id=\"T_99bc6808_491e_11ea_8178_a81e8416c6abrow0_col9\" class=\"data row0 col9\" >-0.105058</td>\n",
       "                        <td id=\"T_99bc6808_491e_11ea_8178_a81e8416c6abrow0_col10\" class=\"data row0 col10\" >-0.0411621</td>\n",
       "                        <td id=\"T_99bc6808_491e_11ea_8178_a81e8416c6abrow0_col11\" class=\"data row0 col11\" >-0.0850556</td>\n",
       "                        <td id=\"T_99bc6808_491e_11ea_8178_a81e8416c6abrow0_col12\" class=\"data row0 col12\" >0.213531</td>\n",
       "            </tr>\n",
       "            <tr>\n",
       "                        <th id=\"T_99bc6808_491e_11ea_8178_a81e8416c6ablevel0_row1\" class=\"row_heading level0 row1\" >weight</th>\n",
       "                        <td id=\"T_99bc6808_491e_11ea_8178_a81e8416c6abrow1_col0\" class=\"data row1 col0\" >-0.0127461</td>\n",
       "                        <td id=\"T_99bc6808_491e_11ea_8178_a81e8416c6abrow1_col1\" class=\"data row1 col1\" >1</td>\n",
       "                        <td id=\"T_99bc6808_491e_11ea_8178_a81e8416c6abrow1_col2\" class=\"data row1 col2\" >0.486888</td>\n",
       "                        <td id=\"T_99bc6808_491e_11ea_8178_a81e8416c6abrow1_col3\" class=\"data row1 col3\" >0.830716</td>\n",
       "                        <td id=\"T_99bc6808_491e_11ea_8178_a81e8416c6abrow1_col4\" class=\"data row1 col4\" >0.894191</td>\n",
       "                        <td id=\"T_99bc6808_491e_11ea_8178_a81e8416c6abrow1_col5\" class=\"data row1 col5\" >0.887995</td>\n",
       "                        <td id=\"T_99bc6808_491e_11ea_8178_a81e8416c6abrow1_col6\" class=\"data row1 col6\" >0.940884</td>\n",
       "                        <td id=\"T_99bc6808_491e_11ea_8178_a81e8416c6abrow1_col7\" class=\"data row1 col7\" >0.868694</td>\n",
       "                        <td id=\"T_99bc6808_491e_11ea_8178_a81e8416c6abrow1_col8\" class=\"data row1 col8\" >0.853167</td>\n",
       "                        <td id=\"T_99bc6808_491e_11ea_8178_a81e8416c6abrow1_col9\" class=\"data row1 col9\" >0.613685</td>\n",
       "                        <td id=\"T_99bc6808_491e_11ea_8178_a81e8416c6abrow1_col10\" class=\"data row1 col10\" >0.800416</td>\n",
       "                        <td id=\"T_99bc6808_491e_11ea_8178_a81e8416c6abrow1_col11\" class=\"data row1 col11\" >0.630301</td>\n",
       "                        <td id=\"T_99bc6808_491e_11ea_8178_a81e8416c6abrow1_col12\" class=\"data row1 col12\" >0.729775</td>\n",
       "            </tr>\n",
       "            <tr>\n",
       "                        <th id=\"T_99bc6808_491e_11ea_8178_a81e8416c6ablevel0_row2\" class=\"row_heading level0 row2\" >height</th>\n",
       "                        <td id=\"T_99bc6808_491e_11ea_8178_a81e8416c6abrow2_col0\" class=\"data row2 col0\" >-0.245212</td>\n",
       "                        <td id=\"T_99bc6808_491e_11ea_8178_a81e8416c6abrow2_col1\" class=\"data row2 col1\" >0.486888</td>\n",
       "                        <td id=\"T_99bc6808_491e_11ea_8178_a81e8416c6abrow2_col2\" class=\"data row2 col2\" >1</td>\n",
       "                        <td id=\"T_99bc6808_491e_11ea_8178_a81e8416c6abrow2_col3\" class=\"data row2 col3\" >0.321141</td>\n",
       "                        <td id=\"T_99bc6808_491e_11ea_8178_a81e8416c6abrow2_col4\" class=\"data row2 col4\" >0.226829</td>\n",
       "                        <td id=\"T_99bc6808_491e_11ea_8178_a81e8416c6abrow2_col5\" class=\"data row2 col5\" >0.189766</td>\n",
       "                        <td id=\"T_99bc6808_491e_11ea_8178_a81e8416c6abrow2_col6\" class=\"data row2 col6\" >0.372106</td>\n",
       "                        <td id=\"T_99bc6808_491e_11ea_8178_a81e8416c6abrow2_col7\" class=\"data row2 col7\" >0.338558</td>\n",
       "                        <td id=\"T_99bc6808_491e_11ea_8178_a81e8416c6abrow2_col8\" class=\"data row2 col8\" >0.500501</td>\n",
       "                        <td id=\"T_99bc6808_491e_11ea_8178_a81e8416c6abrow2_col9\" class=\"data row2 col9\" >0.393131</td>\n",
       "                        <td id=\"T_99bc6808_491e_11ea_8178_a81e8416c6abrow2_col10\" class=\"data row2 col10\" >0.318507</td>\n",
       "                        <td id=\"T_99bc6808_491e_11ea_8178_a81e8416c6abrow2_col11\" class=\"data row2 col11\" >0.322027</td>\n",
       "                        <td id=\"T_99bc6808_491e_11ea_8178_a81e8416c6abrow2_col12\" class=\"data row2 col12\" >0.39778</td>\n",
       "            </tr>\n",
       "            <tr>\n",
       "                        <th id=\"T_99bc6808_491e_11ea_8178_a81e8416c6ablevel0_row3\" class=\"row_heading level0 row3\" >neck</th>\n",
       "                        <td id=\"T_99bc6808_491e_11ea_8178_a81e8416c6abrow3_col0\" class=\"data row3 col0\" >0.113505</td>\n",
       "                        <td id=\"T_99bc6808_491e_11ea_8178_a81e8416c6abrow3_col1\" class=\"data row3 col1\" >0.830716</td>\n",
       "                        <td id=\"T_99bc6808_491e_11ea_8178_a81e8416c6abrow3_col2\" class=\"data row3 col2\" >0.321141</td>\n",
       "                        <td id=\"T_99bc6808_491e_11ea_8178_a81e8416c6abrow3_col3\" class=\"data row3 col3\" >1</td>\n",
       "                        <td id=\"T_99bc6808_491e_11ea_8178_a81e8416c6abrow3_col4\" class=\"data row3 col4\" >0.784835</td>\n",
       "                        <td id=\"T_99bc6808_491e_11ea_8178_a81e8416c6abrow3_col5\" class=\"data row3 col5\" >0.754077</td>\n",
       "                        <td id=\"T_99bc6808_491e_11ea_8178_a81e8416c6abrow3_col6\" class=\"data row3 col6\" >0.734958</td>\n",
       "                        <td id=\"T_99bc6808_491e_11ea_8178_a81e8416c6abrow3_col7\" class=\"data row3 col7\" >0.695697</td>\n",
       "                        <td id=\"T_99bc6808_491e_11ea_8178_a81e8416c6abrow3_col8\" class=\"data row3 col8\" >0.672405</td>\n",
       "                        <td id=\"T_99bc6808_491e_11ea_8178_a81e8416c6abrow3_col9\" class=\"data row3 col9\" >0.477892</td>\n",
       "                        <td id=\"T_99bc6808_491e_11ea_8178_a81e8416c6abrow3_col10\" class=\"data row3 col10\" >0.731146</td>\n",
       "                        <td id=\"T_99bc6808_491e_11ea_8178_a81e8416c6abrow3_col11\" class=\"data row3 col11\" >0.62366</td>\n",
       "                        <td id=\"T_99bc6808_491e_11ea_8178_a81e8416c6abrow3_col12\" class=\"data row3 col12\" >0.744826</td>\n",
       "            </tr>\n",
       "            <tr>\n",
       "                        <th id=\"T_99bc6808_491e_11ea_8178_a81e8416c6ablevel0_row4\" class=\"row_heading level0 row4\" >chest</th>\n",
       "                        <td id=\"T_99bc6808_491e_11ea_8178_a81e8416c6abrow4_col0\" class=\"data row4 col0\" >0.17645</td>\n",
       "                        <td id=\"T_99bc6808_491e_11ea_8178_a81e8416c6abrow4_col1\" class=\"data row4 col1\" >0.894191</td>\n",
       "                        <td id=\"T_99bc6808_491e_11ea_8178_a81e8416c6abrow4_col2\" class=\"data row4 col2\" >0.226829</td>\n",
       "                        <td id=\"T_99bc6808_491e_11ea_8178_a81e8416c6abrow4_col3\" class=\"data row4 col3\" >0.784835</td>\n",
       "                        <td id=\"T_99bc6808_491e_11ea_8178_a81e8416c6abrow4_col4\" class=\"data row4 col4\" >1</td>\n",
       "                        <td id=\"T_99bc6808_491e_11ea_8178_a81e8416c6abrow4_col5\" class=\"data row4 col5\" >0.915828</td>\n",
       "                        <td id=\"T_99bc6808_491e_11ea_8178_a81e8416c6abrow4_col6\" class=\"data row4 col6\" >0.82942</td>\n",
       "                        <td id=\"T_99bc6808_491e_11ea_8178_a81e8416c6abrow4_col7\" class=\"data row4 col7\" >0.729859</td>\n",
       "                        <td id=\"T_99bc6808_491e_11ea_8178_a81e8416c6abrow4_col8\" class=\"data row4 col8\" >0.719496</td>\n",
       "                        <td id=\"T_99bc6808_491e_11ea_8178_a81e8416c6abrow4_col9\" class=\"data row4 col9\" >0.482988</td>\n",
       "                        <td id=\"T_99bc6808_491e_11ea_8178_a81e8416c6abrow4_col10\" class=\"data row4 col10\" >0.727907</td>\n",
       "                        <td id=\"T_99bc6808_491e_11ea_8178_a81e8416c6abrow4_col11\" class=\"data row4 col11\" >0.580173</td>\n",
       "                        <td id=\"T_99bc6808_491e_11ea_8178_a81e8416c6abrow4_col12\" class=\"data row4 col12\" >0.660162</td>\n",
       "            </tr>\n",
       "            <tr>\n",
       "                        <th id=\"T_99bc6808_491e_11ea_8178_a81e8416c6ablevel0_row5\" class=\"row_heading level0 row5\" >abdomen</th>\n",
       "                        <td id=\"T_99bc6808_491e_11ea_8178_a81e8416c6abrow5_col0\" class=\"data row5 col0\" >0.230409</td>\n",
       "                        <td id=\"T_99bc6808_491e_11ea_8178_a81e8416c6abrow5_col1\" class=\"data row5 col1\" >0.887995</td>\n",
       "                        <td id=\"T_99bc6808_491e_11ea_8178_a81e8416c6abrow5_col2\" class=\"data row5 col2\" >0.189766</td>\n",
       "                        <td id=\"T_99bc6808_491e_11ea_8178_a81e8416c6abrow5_col3\" class=\"data row5 col3\" >0.754077</td>\n",
       "                        <td id=\"T_99bc6808_491e_11ea_8178_a81e8416c6abrow5_col4\" class=\"data row5 col4\" >0.915828</td>\n",
       "                        <td id=\"T_99bc6808_491e_11ea_8178_a81e8416c6abrow5_col5\" class=\"data row5 col5\" >1</td>\n",
       "                        <td id=\"T_99bc6808_491e_11ea_8178_a81e8416c6abrow5_col6\" class=\"data row5 col6\" >0.874066</td>\n",
       "                        <td id=\"T_99bc6808_491e_11ea_8178_a81e8416c6abrow5_col7\" class=\"data row5 col7\" >0.766624</td>\n",
       "                        <td id=\"T_99bc6808_491e_11ea_8178_a81e8416c6abrow5_col8\" class=\"data row5 col8\" >0.737179</td>\n",
       "                        <td id=\"T_99bc6808_491e_11ea_8178_a81e8416c6abrow5_col9\" class=\"data row5 col9\" >0.453223</td>\n",
       "                        <td id=\"T_99bc6808_491e_11ea_8178_a81e8416c6abrow5_col10\" class=\"data row5 col10\" >0.684983</td>\n",
       "                        <td id=\"T_99bc6808_491e_11ea_8178_a81e8416c6abrow5_col11\" class=\"data row5 col11\" >0.503316</td>\n",
       "                        <td id=\"T_99bc6808_491e_11ea_8178_a81e8416c6abrow5_col12\" class=\"data row5 col12\" >0.619832</td>\n",
       "            </tr>\n",
       "            <tr>\n",
       "                        <th id=\"T_99bc6808_491e_11ea_8178_a81e8416c6ablevel0_row6\" class=\"row_heading level0 row6\" >hip</th>\n",
       "                        <td id=\"T_99bc6808_491e_11ea_8178_a81e8416c6abrow6_col0\" class=\"data row6 col0\" >-0.0503321</td>\n",
       "                        <td id=\"T_99bc6808_491e_11ea_8178_a81e8416c6abrow6_col1\" class=\"data row6 col1\" >0.940884</td>\n",
       "                        <td id=\"T_99bc6808_491e_11ea_8178_a81e8416c6abrow6_col2\" class=\"data row6 col2\" >0.372106</td>\n",
       "                        <td id=\"T_99bc6808_491e_11ea_8178_a81e8416c6abrow6_col3\" class=\"data row6 col3\" >0.734958</td>\n",
       "                        <td id=\"T_99bc6808_491e_11ea_8178_a81e8416c6abrow6_col4\" class=\"data row6 col4\" >0.82942</td>\n",
       "                        <td id=\"T_99bc6808_491e_11ea_8178_a81e8416c6abrow6_col5\" class=\"data row6 col5\" >0.874066</td>\n",
       "                        <td id=\"T_99bc6808_491e_11ea_8178_a81e8416c6abrow6_col6\" class=\"data row6 col6\" >1</td>\n",
       "                        <td id=\"T_99bc6808_491e_11ea_8178_a81e8416c6abrow6_col7\" class=\"data row6 col7\" >0.89641</td>\n",
       "                        <td id=\"T_99bc6808_491e_11ea_8178_a81e8416c6abrow6_col8\" class=\"data row6 col8\" >0.823473</td>\n",
       "                        <td id=\"T_99bc6808_491e_11ea_8178_a81e8416c6abrow6_col9\" class=\"data row6 col9\" >0.558387</td>\n",
       "                        <td id=\"T_99bc6808_491e_11ea_8178_a81e8416c6abrow6_col10\" class=\"data row6 col10\" >0.739273</td>\n",
       "                        <td id=\"T_99bc6808_491e_11ea_8178_a81e8416c6abrow6_col11\" class=\"data row6 col11\" >0.545014</td>\n",
       "                        <td id=\"T_99bc6808_491e_11ea_8178_a81e8416c6abrow6_col12\" class=\"data row6 col12\" >0.63009</td>\n",
       "            </tr>\n",
       "            <tr>\n",
       "                        <th id=\"T_99bc6808_491e_11ea_8178_a81e8416c6ablevel0_row7\" class=\"row_heading level0 row7\" >thigh</th>\n",
       "                        <td id=\"T_99bc6808_491e_11ea_8178_a81e8416c6abrow7_col0\" class=\"data row7 col0\" >-0.200096</td>\n",
       "                        <td id=\"T_99bc6808_491e_11ea_8178_a81e8416c6abrow7_col1\" class=\"data row7 col1\" >0.868694</td>\n",
       "                        <td id=\"T_99bc6808_491e_11ea_8178_a81e8416c6abrow7_col2\" class=\"data row7 col2\" >0.338558</td>\n",
       "                        <td id=\"T_99bc6808_491e_11ea_8178_a81e8416c6abrow7_col3\" class=\"data row7 col3\" >0.695697</td>\n",
       "                        <td id=\"T_99bc6808_491e_11ea_8178_a81e8416c6abrow7_col4\" class=\"data row7 col4\" >0.729859</td>\n",
       "                        <td id=\"T_99bc6808_491e_11ea_8178_a81e8416c6abrow7_col5\" class=\"data row7 col5\" >0.766624</td>\n",
       "                        <td id=\"T_99bc6808_491e_11ea_8178_a81e8416c6abrow7_col6\" class=\"data row7 col6\" >0.89641</td>\n",
       "                        <td id=\"T_99bc6808_491e_11ea_8178_a81e8416c6abrow7_col7\" class=\"data row7 col7\" >1</td>\n",
       "                        <td id=\"T_99bc6808_491e_11ea_8178_a81e8416c6abrow7_col8\" class=\"data row7 col8\" >0.79917</td>\n",
       "                        <td id=\"T_99bc6808_491e_11ea_8178_a81e8416c6abrow7_col9\" class=\"data row7 col9\" >0.539797</td>\n",
       "                        <td id=\"T_99bc6808_491e_11ea_8178_a81e8416c6abrow7_col10\" class=\"data row7 col10\" >0.761477</td>\n",
       "                        <td id=\"T_99bc6808_491e_11ea_8178_a81e8416c6abrow7_col11\" class=\"data row7 col11\" >0.566842</td>\n",
       "                        <td id=\"T_99bc6808_491e_11ea_8178_a81e8416c6abrow7_col12\" class=\"data row7 col12\" >0.558685</td>\n",
       "            </tr>\n",
       "            <tr>\n",
       "                        <th id=\"T_99bc6808_491e_11ea_8178_a81e8416c6ablevel0_row8\" class=\"row_heading level0 row8\" >knee</th>\n",
       "                        <td id=\"T_99bc6808_491e_11ea_8178_a81e8416c6abrow8_col0\" class=\"data row8 col0\" >0.0175157</td>\n",
       "                        <td id=\"T_99bc6808_491e_11ea_8178_a81e8416c6abrow8_col1\" class=\"data row8 col1\" >0.853167</td>\n",
       "                        <td id=\"T_99bc6808_491e_11ea_8178_a81e8416c6abrow8_col2\" class=\"data row8 col2\" >0.500501</td>\n",
       "                        <td id=\"T_99bc6808_491e_11ea_8178_a81e8416c6abrow8_col3\" class=\"data row8 col3\" >0.672405</td>\n",
       "                        <td id=\"T_99bc6808_491e_11ea_8178_a81e8416c6abrow8_col4\" class=\"data row8 col4\" >0.719496</td>\n",
       "                        <td id=\"T_99bc6808_491e_11ea_8178_a81e8416c6abrow8_col5\" class=\"data row8 col5\" >0.737179</td>\n",
       "                        <td id=\"T_99bc6808_491e_11ea_8178_a81e8416c6abrow8_col6\" class=\"data row8 col6\" >0.823473</td>\n",
       "                        <td id=\"T_99bc6808_491e_11ea_8178_a81e8416c6abrow8_col7\" class=\"data row8 col7\" >0.79917</td>\n",
       "                        <td id=\"T_99bc6808_491e_11ea_8178_a81e8416c6abrow8_col8\" class=\"data row8 col8\" >1</td>\n",
       "                        <td id=\"T_99bc6808_491e_11ea_8178_a81e8416c6abrow8_col9\" class=\"data row8 col9\" >0.611608</td>\n",
       "                        <td id=\"T_99bc6808_491e_11ea_8178_a81e8416c6abrow8_col10\" class=\"data row8 col10\" >0.678709</td>\n",
       "                        <td id=\"T_99bc6808_491e_11ea_8178_a81e8416c6abrow8_col11\" class=\"data row8 col11\" >0.555898</td>\n",
       "                        <td id=\"T_99bc6808_491e_11ea_8178_a81e8416c6abrow8_col12\" class=\"data row8 col12\" >0.664507</td>\n",
       "            </tr>\n",
       "            <tr>\n",
       "                        <th id=\"T_99bc6808_491e_11ea_8178_a81e8416c6ablevel0_row9\" class=\"row_heading level0 row9\" >ankle</th>\n",
       "                        <td id=\"T_99bc6808_491e_11ea_8178_a81e8416c6abrow9_col0\" class=\"data row9 col0\" >-0.105058</td>\n",
       "                        <td id=\"T_99bc6808_491e_11ea_8178_a81e8416c6abrow9_col1\" class=\"data row9 col1\" >0.613685</td>\n",
       "                        <td id=\"T_99bc6808_491e_11ea_8178_a81e8416c6abrow9_col2\" class=\"data row9 col2\" >0.393131</td>\n",
       "                        <td id=\"T_99bc6808_491e_11ea_8178_a81e8416c6abrow9_col3\" class=\"data row9 col3\" >0.477892</td>\n",
       "                        <td id=\"T_99bc6808_491e_11ea_8178_a81e8416c6abrow9_col4\" class=\"data row9 col4\" >0.482988</td>\n",
       "                        <td id=\"T_99bc6808_491e_11ea_8178_a81e8416c6abrow9_col5\" class=\"data row9 col5\" >0.453223</td>\n",
       "                        <td id=\"T_99bc6808_491e_11ea_8178_a81e8416c6abrow9_col6\" class=\"data row9 col6\" >0.558387</td>\n",
       "                        <td id=\"T_99bc6808_491e_11ea_8178_a81e8416c6abrow9_col7\" class=\"data row9 col7\" >0.539797</td>\n",
       "                        <td id=\"T_99bc6808_491e_11ea_8178_a81e8416c6abrow9_col8\" class=\"data row9 col8\" >0.611608</td>\n",
       "                        <td id=\"T_99bc6808_491e_11ea_8178_a81e8416c6abrow9_col9\" class=\"data row9 col9\" >1</td>\n",
       "                        <td id=\"T_99bc6808_491e_11ea_8178_a81e8416c6abrow9_col10\" class=\"data row9 col10\" >0.484855</td>\n",
       "                        <td id=\"T_99bc6808_491e_11ea_8178_a81e8416c6abrow9_col11\" class=\"data row9 col11\" >0.41905</td>\n",
       "                        <td id=\"T_99bc6808_491e_11ea_8178_a81e8416c6abrow9_col12\" class=\"data row9 col12\" >0.566195</td>\n",
       "            </tr>\n",
       "            <tr>\n",
       "                        <th id=\"T_99bc6808_491e_11ea_8178_a81e8416c6ablevel0_row10\" class=\"row_heading level0 row10\" >biceps</th>\n",
       "                        <td id=\"T_99bc6808_491e_11ea_8178_a81e8416c6abrow10_col0\" class=\"data row10 col0\" >-0.0411621</td>\n",
       "                        <td id=\"T_99bc6808_491e_11ea_8178_a81e8416c6abrow10_col1\" class=\"data row10 col1\" >0.800416</td>\n",
       "                        <td id=\"T_99bc6808_491e_11ea_8178_a81e8416c6abrow10_col2\" class=\"data row10 col2\" >0.318507</td>\n",
       "                        <td id=\"T_99bc6808_491e_11ea_8178_a81e8416c6abrow10_col3\" class=\"data row10 col3\" >0.731146</td>\n",
       "                        <td id=\"T_99bc6808_491e_11ea_8178_a81e8416c6abrow10_col4\" class=\"data row10 col4\" >0.727907</td>\n",
       "                        <td id=\"T_99bc6808_491e_11ea_8178_a81e8416c6abrow10_col5\" class=\"data row10 col5\" >0.684983</td>\n",
       "                        <td id=\"T_99bc6808_491e_11ea_8178_a81e8416c6abrow10_col6\" class=\"data row10 col6\" >0.739273</td>\n",
       "                        <td id=\"T_99bc6808_491e_11ea_8178_a81e8416c6abrow10_col7\" class=\"data row10 col7\" >0.761477</td>\n",
       "                        <td id=\"T_99bc6808_491e_11ea_8178_a81e8416c6abrow10_col8\" class=\"data row10 col8\" >0.678709</td>\n",
       "                        <td id=\"T_99bc6808_491e_11ea_8178_a81e8416c6abrow10_col9\" class=\"data row10 col9\" >0.484855</td>\n",
       "                        <td id=\"T_99bc6808_491e_11ea_8178_a81e8416c6abrow10_col10\" class=\"data row10 col10\" >1</td>\n",
       "                        <td id=\"T_99bc6808_491e_11ea_8178_a81e8416c6abrow10_col11\" class=\"data row10 col11\" >0.678255</td>\n",
       "                        <td id=\"T_99bc6808_491e_11ea_8178_a81e8416c6abrow10_col12\" class=\"data row10 col12\" >0.632126</td>\n",
       "            </tr>\n",
       "            <tr>\n",
       "                        <th id=\"T_99bc6808_491e_11ea_8178_a81e8416c6ablevel0_row11\" class=\"row_heading level0 row11\" >forearm</th>\n",
       "                        <td id=\"T_99bc6808_491e_11ea_8178_a81e8416c6abrow11_col0\" class=\"data row11 col0\" >-0.0850556</td>\n",
       "                        <td id=\"T_99bc6808_491e_11ea_8178_a81e8416c6abrow11_col1\" class=\"data row11 col1\" >0.630301</td>\n",
       "                        <td id=\"T_99bc6808_491e_11ea_8178_a81e8416c6abrow11_col2\" class=\"data row11 col2\" >0.322027</td>\n",
       "                        <td id=\"T_99bc6808_491e_11ea_8178_a81e8416c6abrow11_col3\" class=\"data row11 col3\" >0.62366</td>\n",
       "                        <td id=\"T_99bc6808_491e_11ea_8178_a81e8416c6abrow11_col4\" class=\"data row11 col4\" >0.580173</td>\n",
       "                        <td id=\"T_99bc6808_491e_11ea_8178_a81e8416c6abrow11_col5\" class=\"data row11 col5\" >0.503316</td>\n",
       "                        <td id=\"T_99bc6808_491e_11ea_8178_a81e8416c6abrow11_col6\" class=\"data row11 col6\" >0.545014</td>\n",
       "                        <td id=\"T_99bc6808_491e_11ea_8178_a81e8416c6abrow11_col7\" class=\"data row11 col7\" >0.566842</td>\n",
       "                        <td id=\"T_99bc6808_491e_11ea_8178_a81e8416c6abrow11_col8\" class=\"data row11 col8\" >0.555898</td>\n",
       "                        <td id=\"T_99bc6808_491e_11ea_8178_a81e8416c6abrow11_col9\" class=\"data row11 col9\" >0.41905</td>\n",
       "                        <td id=\"T_99bc6808_491e_11ea_8178_a81e8416c6abrow11_col10\" class=\"data row11 col10\" >0.678255</td>\n",
       "                        <td id=\"T_99bc6808_491e_11ea_8178_a81e8416c6abrow11_col11\" class=\"data row11 col11\" >1</td>\n",
       "                        <td id=\"T_99bc6808_491e_11ea_8178_a81e8416c6abrow11_col12\" class=\"data row11 col12\" >0.585588</td>\n",
       "            </tr>\n",
       "            <tr>\n",
       "                        <th id=\"T_99bc6808_491e_11ea_8178_a81e8416c6ablevel0_row12\" class=\"row_heading level0 row12\" >wrist</th>\n",
       "                        <td id=\"T_99bc6808_491e_11ea_8178_a81e8416c6abrow12_col0\" class=\"data row12 col0\" >0.213531</td>\n",
       "                        <td id=\"T_99bc6808_491e_11ea_8178_a81e8416c6abrow12_col1\" class=\"data row12 col1\" >0.729775</td>\n",
       "                        <td id=\"T_99bc6808_491e_11ea_8178_a81e8416c6abrow12_col2\" class=\"data row12 col2\" >0.39778</td>\n",
       "                        <td id=\"T_99bc6808_491e_11ea_8178_a81e8416c6abrow12_col3\" class=\"data row12 col3\" >0.744826</td>\n",
       "                        <td id=\"T_99bc6808_491e_11ea_8178_a81e8416c6abrow12_col4\" class=\"data row12 col4\" >0.660162</td>\n",
       "                        <td id=\"T_99bc6808_491e_11ea_8178_a81e8416c6abrow12_col5\" class=\"data row12 col5\" >0.619832</td>\n",
       "                        <td id=\"T_99bc6808_491e_11ea_8178_a81e8416c6abrow12_col6\" class=\"data row12 col6\" >0.63009</td>\n",
       "                        <td id=\"T_99bc6808_491e_11ea_8178_a81e8416c6abrow12_col7\" class=\"data row12 col7\" >0.558685</td>\n",
       "                        <td id=\"T_99bc6808_491e_11ea_8178_a81e8416c6abrow12_col8\" class=\"data row12 col8\" >0.664507</td>\n",
       "                        <td id=\"T_99bc6808_491e_11ea_8178_a81e8416c6abrow12_col9\" class=\"data row12 col9\" >0.566195</td>\n",
       "                        <td id=\"T_99bc6808_491e_11ea_8178_a81e8416c6abrow12_col10\" class=\"data row12 col10\" >0.632126</td>\n",
       "                        <td id=\"T_99bc6808_491e_11ea_8178_a81e8416c6abrow12_col11\" class=\"data row12 col11\" >0.585588</td>\n",
       "                        <td id=\"T_99bc6808_491e_11ea_8178_a81e8416c6abrow12_col12\" class=\"data row12 col12\" >1</td>\n",
       "            </tr>\n",
       "    </tbody></table>"
      ],
      "text/plain": [
       "<pandas.io.formats.style.Styler at 0x1c208771208>"
      ]
     },
     "execution_count": 4,
     "metadata": {},
     "output_type": "execute_result"
    }
   ],
   "source": [
    "x_data = bodyfat_data.drop(columns=[\"bodyfat\", \"density\"])\n",
    "y_data = bodyfat_data[\"bodyfat\"]\n",
    "corr = x_data.corr()\n",
    "corr.style.background_gradient(cmap='coolwarm')"
   ]
  },
  {
   "cell_type": "markdown",
   "metadata": {},
   "source": [
    "In terms of how logically human organisms distribute fat, in case of overweight individuals, this data makes sense. Bodyparts that store most of underskin fat(such as abdomen, thigh or chest), have high corellation with weight and amongst themselves."
   ]
  },
  {
   "cell_type": "markdown",
   "metadata": {},
   "source": [
    "**(b)** Perform an OLS regression using all 13 explanatory variables. Which variables are significant?"
   ]
  },
  {
   "cell_type": "code",
   "execution_count": 5,
   "metadata": {},
   "outputs": [
    {
     "name": "stderr",
     "output_type": "stream",
     "text": [
      "C:\\Users\\piotr\\Anaconda3\\lib\\site-packages\\numpy\\core\\fromnumeric.py:2389: FutureWarning: Method .ptp is deprecated and will be removed in a future version. Use numpy.ptp instead.\n",
      "  return ptp(axis=axis, out=out, **kwargs)\n"
     ]
    },
    {
     "name": "stdout",
     "output_type": "stream",
     "text": [
      "                            OLS Regression Results                            \n",
      "==============================================================================\n",
      "Dep. Variable:                bodyfat   R-squared:                       0.749\n",
      "Model:                            OLS   Adj. R-squared:                  0.735\n",
      "Method:                 Least Squares   F-statistic:                     54.50\n",
      "Date:                Thu, 06 Feb 2020   Prob (F-statistic):           9.71e-64\n",
      "Time:                        21:23:57   Log-Likelihood:                -718.50\n",
      "No. Observations:                 252   AIC:                             1465.\n",
      "Df Residuals:                     238   BIC:                             1514.\n",
      "Df Model:                          13                                         \n",
      "Covariance Type:            nonrobust                                         \n",
      "==============================================================================\n",
      "                 coef    std err          t      P>|t|      [0.025      0.975]\n",
      "------------------------------------------------------------------------------\n",
      "const        -21.3532     22.186     -0.962      0.337     -65.060      22.353\n",
      "age            0.0646      0.032      2.006      0.046       0.001       0.128\n",
      "weight        -0.0964      0.062     -1.558      0.120      -0.218       0.025\n",
      "height        -0.0439      0.179     -0.246      0.806      -0.396       0.308\n",
      "neck          -0.4755      0.236     -2.018      0.045      -0.940      -0.011\n",
      "chest         -0.0172      0.103     -0.166      0.868      -0.221       0.186\n",
      "abdomen        0.9550      0.090     10.592      0.000       0.777       1.133\n",
      "hip           -0.1886      0.145     -1.302      0.194      -0.474       0.097\n",
      "thigh          0.2483      0.146      1.699      0.091      -0.040       0.536\n",
      "knee           0.0139      0.248      0.056      0.955      -0.474       0.502\n",
      "ankle          0.1779      0.223      0.799      0.425      -0.261       0.616\n",
      "biceps         0.1823      0.172      1.057      0.292      -0.158       0.522\n",
      "forearm        0.4557      0.199      2.287      0.023       0.063       0.848\n",
      "wrist         -1.6545      0.533     -3.103      0.002      -2.705      -0.604\n",
      "==============================================================================\n",
      "Omnibus:                        4.529   Durbin-Watson:                   1.785\n",
      "Prob(Omnibus):                  0.104   Jarque-Bera (JB):                2.878\n",
      "Skew:                          -0.019   Prob(JB):                        0.237\n",
      "Kurtosis:                       2.478   Cond. No.                     2.28e+04\n",
      "==============================================================================\n",
      "\n",
      "Warnings:\n",
      "[1] Standard Errors assume that the covariance matrix of the errors is correctly specified.\n",
      "[2] The condition number is large, 2.28e+04. This might indicate that there are\n",
      "strong multicollinearity or other numerical problems.\n"
     ]
    }
   ],
   "source": [
    "x_data_with_intercept = sm.add_constant(x_data)\n",
    "model = sm.OLS(y_data, x_data_with_intercept)\n",
    "fitted_model = model.fit()\n",
    "print(fitted_model.summary())"
   ]
  },
  {
   "cell_type": "markdown",
   "metadata": {},
   "source": [
    "Assuming significance level of **0.05** we will see that OLS would consider following variables significant:\n",
    "\n",
    "**age, neck, abdomen, forearm, wrist**\n",
    "\n",
    "This sounds weird that at first we don't have chest or thighs included, but looking at corellation table we can see that they are highly correlated and therefore contain similar information."
   ]
  },
  {
   "cell_type": "markdown",
   "metadata": {},
   "source": [
    "**(d)** Use leave-one-out cross-validation for estimating the mean prediction error as a criterion for model selection. Which subset of variables gives the best model, based on this criterion?\n",
    "\n",
    "Worth commenting on this is the fact that we have in total (2^13 - 1) combinations to calculate if we search through whole superset. This problem is significant when it comes to computational power."
   ]
  },
  {
   "cell_type": "code",
   "execution_count": 6,
   "metadata": {},
   "outputs": [],
   "source": [
    "def powerset(seq):\n",
    "    if len(seq) <= 1:\n",
    "        yield seq\n",
    "        yield []\n",
    "    else:\n",
    "        for item in powerset(seq[1:]):\n",
    "            yield [seq[0]]+item\n",
    "            yield item\n",
    "\n",
    "feature_powerset = [x for x in powerset(list(x_data.columns))]\n",
    "feature_powerset.sort()\n",
    "del feature_powerset[0]            "
   ]
  },
  {
   "cell_type": "markdown",
   "metadata": {},
   "source": [
    "My first idea of a solution wouldn't converge in sensible time, so I've used some help from one of my colleagues and used his parallelized approach using joblibs parallel. Estimated time would be days in my approach. His is quicker as visible below:"
   ]
  },
  {
   "cell_type": "code",
   "execution_count": 7,
   "metadata": {},
   "outputs": [],
   "source": [
    "from sklearn.model_selection import LeaveOneOut\n",
    "from sklearn.linear_model import LinearRegression\n",
    "from joblib import Parallel, delayed\n",
    "from tqdm import tqdm"
   ]
  },
  {
   "cell_type": "code",
   "execution_count": 8,
   "metadata": {},
   "outputs": [],
   "source": [
    "def test_comb(combination):\n",
    "    x = x_data.copy()[combination].values\n",
    "    y = y_data.copy().values\n",
    "    \n",
    "    results = []\n",
    "    \n",
    "    loo = LeaveOneOut()\n",
    "    for train_index, test_index in loo.split(x):\n",
    "        x_train, y_train = x[train_index], y[train_index]\n",
    "        x_test, y_test = x[test_index], y[test_index]\n",
    "        \n",
    "        model = LinearRegression().fit(x_train, y_train)\n",
    "        predictions = model.predict(x_test)\n",
    "        results.append(np.mean((y_test-predictions) ** 2))\n",
    "        \n",
    "    return combination, {'mean': np.mean(results), 'std': np.std(results)}"
   ]
  },
  {
   "cell_type": "code",
   "execution_count": 9,
   "metadata": {},
   "outputs": [
    {
     "name": "stderr",
     "output_type": "stream",
     "text": [
      "100%|██████████████████████████████████████████████████████████████████████████████| 8191/8191 [21:41<00:00,  6.29it/s]\n"
     ]
    }
   ],
   "source": [
    "results = Parallel(n_jobs = 4, backend = \"loky\")(delayed(test_comb)(comb) for comb in tqdm(feature_powerset))"
   ]
  },
  {
   "cell_type": "code",
   "execution_count": 37,
   "metadata": {},
   "outputs": [
    {
     "data": {
      "text/plain": [
       "[(['age', 'weight', 'neck', 'abdomen', 'hip', 'thigh', 'forearm', 'wrist'],\n",
       "  {'mean': 19.166210622898625, 'std': 24.231639556480136})]"
      ]
     },
     "execution_count": 37,
     "metadata": {},
     "output_type": "execute_result"
    }
   ],
   "source": [
    "list(sorted(results, key=lambda x: x[1]['mean'], reverse = False))[:1]"
   ]
  },
  {
   "cell_type": "markdown",
   "metadata": {},
   "source": [
    "Which gives us subset of:\n",
    "**'age', 'weight', 'neck', 'abdomen', 'hip', 'thigh', 'forearm', 'wrist'**\n",
    "\n",
    "\n",
    "**Excercise 2**\n",
    "\n",
    "Consider the data for ozone measurements from thirty two locations in the Los Angeles area, found in the file ozone.csv in the course data directory. Perform a Mantel test to see whether the differences between ozone measurements are smaller for stations that are closer together.\n",
    "\n",
    "For this excercise we will need Matrixes of measures of Haversine Distances, and differences of Ozone Measurements. Let's first implement those. I do realize this excercise has been solved in R in lecture notes, but I do want to implement it in Python for my self upskilling purposes."
   ]
  },
  {
   "cell_type": "code",
   "execution_count": 38,
   "metadata": {},
   "outputs": [
    {
     "data": {
      "text/html": [
       "<div>\n",
       "<style scoped>\n",
       "    .dataframe tbody tr th:only-of-type {\n",
       "        vertical-align: middle;\n",
       "    }\n",
       "\n",
       "    .dataframe tbody tr th {\n",
       "        vertical-align: top;\n",
       "    }\n",
       "\n",
       "    .dataframe thead th {\n",
       "        text-align: right;\n",
       "    }\n",
       "</style>\n",
       "<table border=\"1\" class=\"dataframe\">\n",
       "  <thead>\n",
       "    <tr style=\"text-align: right;\">\n",
       "      <th></th>\n",
       "      <th>Station</th>\n",
       "      <th>Av8top</th>\n",
       "      <th>Lat</th>\n",
       "      <th>Lon</th>\n",
       "    </tr>\n",
       "  </thead>\n",
       "  <tbody>\n",
       "    <tr>\n",
       "      <th>0</th>\n",
       "      <td>60</td>\n",
       "      <td>7.225806</td>\n",
       "      <td>34.135833</td>\n",
       "      <td>-117.923611</td>\n",
       "    </tr>\n",
       "    <tr>\n",
       "      <th>1</th>\n",
       "      <td>69</td>\n",
       "      <td>5.899194</td>\n",
       "      <td>34.176111</td>\n",
       "      <td>-118.315278</td>\n",
       "    </tr>\n",
       "    <tr>\n",
       "      <th>2</th>\n",
       "      <td>72</td>\n",
       "      <td>4.052885</td>\n",
       "      <td>33.823611</td>\n",
       "      <td>-118.187500</td>\n",
       "    </tr>\n",
       "    <tr>\n",
       "      <th>3</th>\n",
       "      <td>74</td>\n",
       "      <td>7.181452</td>\n",
       "      <td>34.199444</td>\n",
       "      <td>-118.534722</td>\n",
       "    </tr>\n",
       "    <tr>\n",
       "      <th>4</th>\n",
       "      <td>75</td>\n",
       "      <td>6.076613</td>\n",
       "      <td>34.066944</td>\n",
       "      <td>-117.751389</td>\n",
       "    </tr>\n",
       "  </tbody>\n",
       "</table>\n",
       "</div>"
      ],
      "text/plain": [
       "   Station    Av8top        Lat         Lon\n",
       "0       60  7.225806  34.135833 -117.923611\n",
       "1       69  5.899194  34.176111 -118.315278\n",
       "2       72  4.052885  33.823611 -118.187500\n",
       "3       74  7.181452  34.199444 -118.534722\n",
       "4       75  6.076613  34.066944 -117.751389"
      ]
     },
     "execution_count": 38,
     "metadata": {},
     "output_type": "execute_result"
    }
   ],
   "source": [
    "ozone_data.head()"
   ]
  },
  {
   "cell_type": "code",
   "execution_count": 108,
   "metadata": {},
   "outputs": [],
   "source": [
    "from math import radians, cos, sin, asin, sqrt\n",
    "\n",
    "def haversine_metric_miles(lat1, lon1, lat2, lon2):\n",
    "    earth_radius = 3959.87433\n",
    "\n",
    "    difference_latitude = radians(lat2 - lat1)\n",
    "    difference_longitude = radians(lon2 - lon1)\n",
    "    lat1 = radians(lat1)\n",
    "    lat2 = radians(lat2)\n",
    "\n",
    "    a = sin(difference_latitude/2)**2 + cos(lat1)*cos(lat2)*sin(difference_longitude/2)**2\n",
    "    c = 2*asin(sqrt(a))\n",
    "\n",
    "    return earth_radius * c\n",
    "\n",
    "def haversine_metric_kilometres(lat1, lon1, lat2, lon2):\n",
    "    earth_radius = 6372.8\n",
    "\n",
    "    difference_latitude = radians(lat2 - lat1)\n",
    "    difference_longitude = radians(lon2 - lon1)\n",
    "    lat1 = radians(lat1)\n",
    "    lat2 = radians(lat2)\n",
    "\n",
    "    a = sin(difference_latitude/2)**2 + cos(lat1)*cos(lat2)*sin(difference_longitude/2)**2\n",
    "    c = 2*asin(sqrt(a))\n",
    "\n",
    "    return earth_radius * c\n",
    "\n",
    "def absolute_distance(measure1,measure2):\n",
    "    return abs(measure1-measure2)"
   ]
  },
  {
   "cell_type": "code",
   "execution_count": 109,
   "metadata": {},
   "outputs": [],
   "source": [
    "def create_measure_matrix(data, measure, length_measure):\n",
    "    n = len(data)\n",
    "    matrix = np.zeros((n,n))\n",
    "    if measure == \"haversine\":\n",
    "        for i in range(n):\n",
    "            lat1, lon1 = data.iloc[i][[2]], data.iloc[i][[3]]\n",
    "            for j in range(n):\n",
    "                lat2, lon2 = data.iloc[j][[2]], data.iloc[j][[3]]\n",
    "                if length_measure == \"kilometres\":\n",
    "                    matrix[i,j] = haversine_metric_kilometres(lat1, lon1, lat2, lon2)\n",
    "                elif length_measure == \"miles\":\n",
    "                    matrix[i,j] = haversine_metric_miles(lat1, lon1, lat2, lon2)\n",
    "    elif measure == \"absolute\":\n",
    "        for i in range(n):\n",
    "            measure1 = data.iloc[i][[1]]\n",
    "            for j in range(n):\n",
    "                measure2 = data.iloc[j][[1]]\n",
    "                matrix[i,j] = absolute_distance(measure1, measure2)\n",
    "    return matrix"
   ]
  },
  {
   "cell_type": "code",
   "execution_count": 110,
   "metadata": {},
   "outputs": [],
   "source": [
    "haversine_matrix_miles = create_measure_matrix(ozone_data, \"haversine\", \"miles\")\n",
    "absolute_matrix_miles = create_measure_matrix(ozone_data, \"absolute\", \"miles\")"
   ]
  },
  {
   "cell_type": "markdown",
   "metadata": {},
   "source": [
    "Now I will copy-paste implementation of Mantel Test, written down by Jon W. Carr."
   ]
  },
  {
   "cell_type": "code",
   "execution_count": 59,
   "metadata": {},
   "outputs": [],
   "source": [
    "# MantelTest v1.2.10\n",
    "# http://jwcarr.github.io/MantelTest/\n",
    "#\n",
    "# Copyright (c) 2014-2016 Jon W. Carr\n",
    "# Licensed under the terms of the MIT License\n",
    "\n",
    "import numpy as np\n",
    "from itertools import permutations\n",
    "from scipy import spatial, stats\n",
    "\n",
    "def test(X, Y, perms=10000, method='pearson', tail='two-tail'):\n",
    "  \"\"\"\n",
    "  Takes two distance matrices (either redundant matrices or condensed vectors)\n",
    "  and performs a Mantel test. The Mantel test is a significance test of the\n",
    "  correlation between two distance matrices.\n",
    "  Parameters\n",
    "  ----------\n",
    "  X : array_like\n",
    "      First distance matrix (condensed or redundant).\n",
    "  Y : array_like\n",
    "      Second distance matrix (condensed or redundant), where the order of\n",
    "      elements corresponds to the order of elements in the first matrix.\n",
    "  perms : int, optional\n",
    "      The number of permutations to perform (default: 10000). A larger number\n",
    "      gives more reliable results but takes longer to run. If the actual number\n",
    "      of possible permutations is smaller, the program will enumerate all\n",
    "      permutations. Enumeration can be forced by setting this argument to 0.\n",
    "  method : str, optional\n",
    "      Type of correlation coefficient to use; either 'pearson' or 'spearman'\n",
    "      (default: 'pearson').\n",
    "  tail : str, optional\n",
    "      Which tail to test in the calculation of the empirical p-value; either\n",
    "      'upper', 'lower', or 'two-tail' (default: 'two-tail').\n",
    "  Returns\n",
    "  -------\n",
    "  r : float\n",
    "      Veridical correlation\n",
    "  p : float\n",
    "      Empirical p-value\n",
    "  z : float\n",
    "      Standard score (z-score)\n",
    "  \"\"\"\n",
    "\n",
    "  # Ensure that X and Y are formatted as Numpy arrays.\n",
    "  X, Y = np.asarray(X, dtype=float), np.asarray(Y, dtype=float)\n",
    "\n",
    "  # Check that X and Y are valid distance matrices.\n",
    "  if spatial.distance.is_valid_dm(X) == False and spatial.distance.is_valid_y(X) == False:\n",
    "    raise ValueError('X is not a valid condensed or redundant distance matrix')\n",
    "  if spatial.distance.is_valid_dm(Y) == False and spatial.distance.is_valid_y(Y) == False:\n",
    "    raise ValueError('Y is not a valid condensed or redundant distance matrix')\n",
    "\n",
    "  # If X or Y is a redundant distance matrix, reduce it to a condensed distance matrix.\n",
    "  if len(X.shape) == 2:\n",
    "    X = spatial.distance.squareform(X, force='tovector', checks=False)\n",
    "  if len(Y.shape) == 2:\n",
    "    Y = spatial.distance.squareform(Y, force='tovector', checks=False)\n",
    "\n",
    "  # Check for size equality.\n",
    "  if X.shape[0] != Y.shape[0]:\n",
    "    raise ValueError('X and Y are not of equal size')\n",
    "\n",
    "  # Check for minimum size.\n",
    "  if X.shape[0] < 3:\n",
    "    raise ValueError('X and Y should represent at least 3 objects')\n",
    "\n",
    "  # If Spearman correlation is requested, convert X and Y to ranks.\n",
    "  if method == 'spearman':\n",
    "    X, Y = stats.rankdata(X), stats.rankdata(Y)\n",
    "\n",
    "  # Check for valid method parameter.\n",
    "  elif method != 'pearson':\n",
    "    raise ValueError('The method should be set to \"pearson\" or \"spearman\"')\n",
    "\n",
    "  # Check for valid tail parameter.\n",
    "  if tail != 'upper' and tail != 'lower' and tail != 'two-tail':\n",
    "    raise ValueError('The tail should be set to \"upper\", \"lower\", or \"two-tail\"')\n",
    "\n",
    "  # Calculate the X and Y residuals, which will be used to compute the\n",
    "  # covariance under each permutation.\n",
    "  X_residuals, Y_residuals = X - X.mean(), Y - Y.mean()\n",
    "\n",
    "  # Expand the Y residuals to a redundant matrix.\n",
    "  Y_residuals_as_matrix = spatial.distance.squareform(Y_residuals, force='tomatrix', checks=False)\n",
    "\n",
    "  # Get the number of objects.\n",
    "  m = Y_residuals_as_matrix.shape[0]\n",
    "\n",
    "  # Calculate the number of possible matrix permutations.\n",
    "  n = np.math.factorial(m)\n",
    "\n",
    "  # Initialize an empty array to store temporary permutations of Y_residuals.\n",
    "  Y_residuals_permuted = np.zeros(Y_residuals.shape[0], dtype=float)\n",
    "\n",
    "  # If the number of requested permutations is greater than the number of\n",
    "  # possible permutations (m!) or the perms parameter is set to 0, then run a\n",
    "  # deterministic Mantel test ...\n",
    "  if perms >= n or perms == 0:\n",
    "\n",
    "    # Initialize an empty array to store the covariances.\n",
    "    covariances = np.zeros(n, dtype=float)\n",
    "\n",
    "    # Enumerate all permutations of row/column orders and iterate over them.\n",
    "    for i, order in enumerate(permutations(range(m))):\n",
    "\n",
    "      # Take a permutation of the matrix.\n",
    "      Y_residuals_as_matrix_permuted = Y_residuals_as_matrix[order, :][:, order]\n",
    "\n",
    "      # Condense the permuted version of the matrix. Rather than use\n",
    "      # distance.squareform(), we call directly into the C wrapper for speed.\n",
    "      spatial.distance._distance_wrap.to_vector_from_squareform_wrap(Y_residuals_as_matrix_permuted, Y_residuals_permuted)\n",
    "\n",
    "      # Compute and store the covariance.\n",
    "      covariances[i] = (X_residuals * Y_residuals_permuted).sum()\n",
    "\n",
    "  # ... otherwise run a stochastic Mantel test.\n",
    "  else:\n",
    "\n",
    "    # Initialize an empty array to store the covariances.\n",
    "    covariances = np.zeros(perms, dtype=float)\n",
    "\n",
    "    # Initialize an array to store the permutation order.\n",
    "    order = np.arange(m)\n",
    "\n",
    "    # Store the veridical covariance in 0th position...\n",
    "    covariances[0] = (X_residuals * Y_residuals).sum()\n",
    "\n",
    "    # ...and then run the random permutations.\n",
    "    for i in range(1, perms):\n",
    "\n",
    "      # Choose a random order in which to permute the rows and columns.\n",
    "      np.random.shuffle(order)\n",
    "\n",
    "      # Take a permutation of the matrix.\n",
    "      Y_residuals_as_matrix_permuted = Y_residuals_as_matrix[order, :][:, order]\n",
    "\n",
    "      # Condense the permuted version of the matrix. Rather than use\n",
    "      # distance.squareform(), we call directly into the C wrapper for speed.\n",
    "      spatial.distance._distance_wrap.to_vector_from_squareform_wrap(Y_residuals_as_matrix_permuted, Y_residuals_permuted)\n",
    "\n",
    "      # Compute and store the covariance.\n",
    "      covariances[i] = (X_residuals * Y_residuals_permuted).sum()\n",
    "\n",
    "  # Calculate the veridical correlation coefficient from the veridical covariance.\n",
    "  r = covariances[0] / np.sqrt((X_residuals ** 2).sum() * (Y_residuals ** 2).sum())\n",
    "\n",
    "  # Calculate the empirical p-value for the upper or lower tail.\n",
    "  if tail == 'upper':\n",
    "    p = (covariances >= covariances[0]).sum() / float(covariances.shape[0])\n",
    "  elif tail == 'lower':\n",
    "    p = (covariances <= covariances[0]).sum() / float(covariances.shape[0])\n",
    "  elif tail == 'two-tail':\n",
    "    p = (abs(covariances) >= abs(covariances[0])).sum() / float(covariances.shape[0])\n",
    "\n",
    "  # Calculate the standard score.\n",
    "  z = (covariances[0] - covariances.mean()) / covariances.std()\n",
    "\n",
    "  return r, p, z"
   ]
  },
  {
   "cell_type": "code",
   "execution_count": 111,
   "metadata": {},
   "outputs": [
    {
     "data": {
      "text/plain": [
       "(0.15899604573504642, 0.031, 2.1749053172798063)"
      ]
     },
     "execution_count": 111,
     "metadata": {},
     "output_type": "execute_result"
    }
   ],
   "source": [
    "test(haversine_matrix_miles, absolute_matrix_miles, tail = \"upper\")\n",
    "# Correlation,   P-value, Z value"
   ]
  },
  {
   "cell_type": "markdown",
   "metadata": {},
   "source": [
    "If we would have used 0.05 as a threshold for p-value, then in the given example we would choose H1, that the measurements are closer if stations are closer. \n",
    "\n",
    "I do suspect that if we would have used earth radius measure in kilometres, we might have gotten different final result, as measures aren't consistent. Let's check this again:"
   ]
  },
  {
   "cell_type": "code",
   "execution_count": 112,
   "metadata": {},
   "outputs": [
    {
     "data": {
      "text/plain": [
       "(0.1589960457350464, 0.0318, 2.1600243816344005)"
      ]
     },
     "execution_count": 112,
     "metadata": {},
     "output_type": "execute_result"
    }
   ],
   "source": [
    "haversine_matrix_km = create_measure_matrix(ozone_data, \"haversine\", \"kilometres\")\n",
    "absolute_matrix_km = create_measure_matrix(ozone_data, \"absolute\", \"kilometres\")\n",
    "\n",
    "test(haversine_matrix_km, absolute_matrix_km, tail = \"upper\")\n",
    "# Correlation,   P-value, Z value"
   ]
  },
  {
   "cell_type": "markdown",
   "metadata": {},
   "source": [
    "So the results only changed a little bit. I guess it isn't that suspicious, granted that the numbers we multiplied by either miles or kilometres, weren't that big. Results are coherent with those in lecture notes."
   ]
  },
  {
   "cell_type": "markdown",
   "metadata": {},
   "source": [
    "**Excercise 3**\n",
    "\n",
    "Consider the ‘car marks’ data set in carmarks.txt in the course data directory. The data are averaged marks for 24 cars from a sample of 40 persons. The marks range from 1 (very good) to 6 (very bad). The first two columns contain ‘type’ and ‘model’. The next 8 columns contain the variables: economy, service, non-depreciation of value, price (1 is cheapest), design, sporty car, safety, easy handling. Let the X variables be (price, value stability) and let the Y variables be (economy, service, design, sporty car, safety, easy handling). Perform a canonical correlation analysis on the data and draw suitable conclusions."
   ]
  },
  {
   "cell_type": "code",
   "execution_count": 69,
   "metadata": {},
   "outputs": [],
   "source": [
    "from sklearn.cross_decomposition import CCA"
   ]
  },
  {
   "cell_type": "code",
   "execution_count": 62,
   "metadata": {},
   "outputs": [
    {
     "data": {
      "text/html": [
       "<div>\n",
       "<style scoped>\n",
       "    .dataframe tbody tr th:only-of-type {\n",
       "        vertical-align: middle;\n",
       "    }\n",
       "\n",
       "    .dataframe tbody tr th {\n",
       "        vertical-align: top;\n",
       "    }\n",
       "\n",
       "    .dataframe thead th {\n",
       "        text-align: right;\n",
       "    }\n",
       "</style>\n",
       "<table border=\"1\" class=\"dataframe\">\n",
       "  <thead>\n",
       "    <tr style=\"text-align: right;\">\n",
       "      <th></th>\n",
       "      <th>CARMARK</th>\n",
       "      <th>ECONOMY</th>\n",
       "      <th>SERVICE</th>\n",
       "      <th>VALUE</th>\n",
       "      <th>PRICE</th>\n",
       "      <th>DESIGN</th>\n",
       "      <th>SPORT</th>\n",
       "      <th>SAFETY</th>\n",
       "      <th>EASYINESS</th>\n",
       "    </tr>\n",
       "  </thead>\n",
       "  <tbody>\n",
       "    <tr>\n",
       "      <th>0</th>\n",
       "      <td>A100</td>\n",
       "      <td>3.9</td>\n",
       "      <td>2.8</td>\n",
       "      <td>2.2</td>\n",
       "      <td>4.2</td>\n",
       "      <td>3.0</td>\n",
       "      <td>3.1</td>\n",
       "      <td>2.4</td>\n",
       "      <td>2.8</td>\n",
       "    </tr>\n",
       "    <tr>\n",
       "      <th>1</th>\n",
       "      <td>BMW3</td>\n",
       "      <td>4.8</td>\n",
       "      <td>1.6</td>\n",
       "      <td>1.9</td>\n",
       "      <td>5.0</td>\n",
       "      <td>2.0</td>\n",
       "      <td>2.5</td>\n",
       "      <td>1.6</td>\n",
       "      <td>2.8</td>\n",
       "    </tr>\n",
       "    <tr>\n",
       "      <th>2</th>\n",
       "      <td>CiAX</td>\n",
       "      <td>3.0</td>\n",
       "      <td>3.8</td>\n",
       "      <td>3.8</td>\n",
       "      <td>2.7</td>\n",
       "      <td>4.0</td>\n",
       "      <td>4.4</td>\n",
       "      <td>4.0</td>\n",
       "      <td>2.6</td>\n",
       "    </tr>\n",
       "    <tr>\n",
       "      <th>3</th>\n",
       "      <td>Ferr</td>\n",
       "      <td>5.3</td>\n",
       "      <td>2.9</td>\n",
       "      <td>2.2</td>\n",
       "      <td>5.9</td>\n",
       "      <td>1.7</td>\n",
       "      <td>1.1</td>\n",
       "      <td>3.3</td>\n",
       "      <td>4.3</td>\n",
       "    </tr>\n",
       "    <tr>\n",
       "      <th>4</th>\n",
       "      <td>FiUn</td>\n",
       "      <td>2.1</td>\n",
       "      <td>3.9</td>\n",
       "      <td>4.0</td>\n",
       "      <td>2.6</td>\n",
       "      <td>4.5</td>\n",
       "      <td>4.4</td>\n",
       "      <td>4.4</td>\n",
       "      <td>2.2</td>\n",
       "    </tr>\n",
       "  </tbody>\n",
       "</table>\n",
       "</div>"
      ],
      "text/plain": [
       "  CARMARK  ECONOMY  SERVICE  VALUE  PRICE  DESIGN  SPORT  SAFETY  EASYINESS\n",
       "0    A100      3.9      2.8    2.2    4.2     3.0    3.1     2.4        2.8\n",
       "1    BMW3      4.8      1.6    1.9    5.0     2.0    2.5     1.6        2.8\n",
       "2    CiAX      3.0      3.8    3.8    2.7     4.0    4.4     4.0        2.6\n",
       "3    Ferr      5.3      2.9    2.2    5.9     1.7    1.1     3.3        4.3\n",
       "4    FiUn      2.1      3.9    4.0    2.6     4.5    4.4     4.4        2.2"
      ]
     },
     "execution_count": 62,
     "metadata": {},
     "output_type": "execute_result"
    }
   ],
   "source": [
    "carmarks_data.head()"
   ]
  },
  {
   "cell_type": "code",
   "execution_count": 68,
   "metadata": {},
   "outputs": [],
   "source": [
    "x_carmarks = carmarks_data[[\"PRICE\",\"VALUE\"]]\n",
    "y_carmarks = carmarks_data.drop([\"CARMARK\", \"PRICE\", \"VALUE\"], axis=1)"
   ]
  },
  {
   "cell_type": "markdown",
   "metadata": {},
   "source": [
    "As in our case min(p,q) = 2, where p and q denote vectors for which we want to compute analysis, we want only 2 components:"
   ]
  },
  {
   "cell_type": "code",
   "execution_count": 71,
   "metadata": {},
   "outputs": [],
   "source": [
    "cca = CCA(n_components=2, scale=True)\n",
    "X_c, Y_c = cca.fit_transform(x_carmarks, y_carmarks)"
   ]
  },
  {
   "cell_type": "code",
   "execution_count": 79,
   "metadata": {},
   "outputs": [
    {
     "name": "stdout",
     "output_type": "stream",
     "text": [
      "[[-0.70997646  0.8481482 ]\n",
      " [ 0.73558319  0.52975903]]\n",
      "\n",
      " [[-0.4210311   0.58835394]\n",
      " [ 0.63409698  0.28599174]\n",
      " [ 0.63172266 -0.1585578 ]\n",
      " [ 0.61034664 -0.14859005]\n",
      " [ 0.62245444  0.30774151]\n",
      " [ 0.00529752  0.80116521]]\n"
     ]
    }
   ],
   "source": [
    "print(cca.x_loadings_)\n",
    "print(\"\\n\",cca.y_loadings_)"
   ]
  },
  {
   "cell_type": "code",
   "execution_count": 81,
   "metadata": {},
   "outputs": [
    {
     "name": "stdout",
     "output_type": "stream",
     "text": [
      "[-0.70997646  0.73558319]\n"
     ]
    }
   ],
   "source": [
    "print(cca.x_loadings_[:,0])"
   ]
  },
  {
   "cell_type": "markdown",
   "metadata": {},
   "source": [
    "So now as we have all the canonical weights, let's look up them more closely, and analyze them as per lectures:\n",
    "Let's remind us first, which number resembles which feature:"
   ]
  },
  {
   "cell_type": "code",
   "execution_count": 101,
   "metadata": {},
   "outputs": [
    {
     "name": "stdout",
     "output_type": "stream",
     "text": [
      " PRICE,       VALUE\n",
      "[-0.70997646  0.73558319]\n",
      "\n",
      " ECONOMY,     SERVICE,    DESIGN,     SPORT,      SAFETY,     EASYINESS\n",
      "[-0.4210311   0.63409698  0.63172266  0.61034664  0.62245444  0.00529752]\n"
     ]
    }
   ],
   "source": [
    "print(\" PRICE,       VALUE\")\n",
    "print(cca.x_loadings_[:,0])\n",
    "print(\"\\n ECONOMY,     SERVICE,    DESIGN,     SPORT,      SAFETY,     EASYINESS\")\n",
    "print(cca.y_loadings_[:,0])"
   ]
  },
  {
   "cell_type": "markdown",
   "metadata": {},
   "source": [
    "First we need to remind ourselves, that due to the ranking of prices, very low PRICE value resembles that the car is actually expensive.\n",
    "\n",
    "In this case we can see that high **PRICE**, with high stability in **VALUE** is correlated with everything besides **EASYINESS** of handling the car. Worth noting that those cars are usually highly not **ECONOMICAL**. Which makes perfect logical sense."
   ]
  },
  {
   "cell_type": "code",
   "execution_count": 113,
   "metadata": {},
   "outputs": [
    {
     "name": "stdout",
     "output_type": "stream",
     "text": [
      " PRICE,       VALUE\n",
      "[0.8481482  0.52975903]\n",
      "\n",
      " ECONOMY,     SERVICE,    DESIGN,     SPORT,      SAFETY,     EASYINESS\n",
      "[ 0.58835394  0.28599174 -0.1585578  -0.14859005  0.30774151  0.80116521]\n"
     ]
    }
   ],
   "source": [
    "print(\" PRICE,       VALUE\")\n",
    "print(cca.x_loadings_[:,1])\n",
    "print(\"\\n ECONOMY,     SERVICE,    DESIGN,     SPORT,      SAFETY,     EASYINESS\")\n",
    "print(cca.y_loadings_[:,1])"
   ]
  },
  {
   "cell_type": "markdown",
   "metadata": {},
   "source": [
    "In this case we can see that **DESIGN** and **SPORT** are not that correlated with **PRICE** and **VALUE** while, **SAFETY** and **SERVICE** are only moderately correlated, contrary to highly correlated **EASYINESS** and **ECONOMY**.\n",
    "\n",
    "\n",
    "\n",
    "**Excercise 4**\n",
    "\n",
    "The data in primate.scapulae.txt (and primate.scapulae.xls) contain indices and angles that are related to scapular shape (shoulder bones of primates), but not to functional meaning. There are 8 variables in the data set. The first five (AD.BD, AD.CD, EA.CD, Dx.CD, SH.ACR) are indices and the last three (EAD, β, γ) are angles. Of the 105 measurements on each variable, 16 were taken on Hylobates scapulae, 15 on Pongo scapulae, 20 on Pan scapulae. 14 on Gorilla scapulae, and 40 on Homo scapulae. The angle γ was not available for Homo.\n",
    "\n",
    "**(a)** Apply agglomerative and divisive hierarchical methods for clustering the variables using all 5 indices and the 2 angles available for all items. Construct dendrograms with single-linkage, average-linkage, complete-linkage and Ward-linkage for the methods. When an isolated observation appears high enough up in the dendrogram, it becomes a cluster of size one and hence plays the role of an outlier. Which linkage methods give outliers?"
   ]
  },
  {
   "cell_type": "code",
   "execution_count": 38,
   "metadata": {},
   "outputs": [],
   "source": [
    "from matplotlib import pyplot as plt\n",
    "from scipy.cluster.hierarchy import dendrogram, linkage, set_link_color_palette\n",
    "from sklearn.preprocessing import MinMaxScaler\n",
    "from sklearn.cluster import AgglomerativeClustering\n",
    "from sklearn.metrics import confusion_matrix\n",
    "import seaborn as sn\n",
    "import random"
   ]
  },
  {
   "cell_type": "code",
   "execution_count": 114,
   "metadata": {},
   "outputs": [
    {
     "data": {
      "text/html": [
       "<div>\n",
       "<style scoped>\n",
       "    .dataframe tbody tr th:only-of-type {\n",
       "        vertical-align: middle;\n",
       "    }\n",
       "\n",
       "    .dataframe tbody tr th {\n",
       "        vertical-align: top;\n",
       "    }\n",
       "\n",
       "    .dataframe thead th {\n",
       "        text-align: right;\n",
       "    }\n",
       "</style>\n",
       "<table border=\"1\" class=\"dataframe\">\n",
       "  <thead>\n",
       "    <tr style=\"text-align: right;\">\n",
       "      <th></th>\n",
       "      <th>genus</th>\n",
       "      <th>AD.BD</th>\n",
       "      <th>AD.CD</th>\n",
       "      <th>EA.CD</th>\n",
       "      <th>Dx.CD</th>\n",
       "      <th>SH.ACR</th>\n",
       "      <th>EAD</th>\n",
       "      <th>beta</th>\n",
       "      <th>gamma</th>\n",
       "      <th>class</th>\n",
       "      <th>classdigit</th>\n",
       "    </tr>\n",
       "  </thead>\n",
       "  <tbody>\n",
       "    <tr>\n",
       "      <th>0</th>\n",
       "      <td>54</td>\n",
       "      <td>65.56</td>\n",
       "      <td>166.0</td>\n",
       "      <td>50.55</td>\n",
       "      <td>12.80</td>\n",
       "      <td>70.3</td>\n",
       "      <td>115</td>\n",
       "      <td>14</td>\n",
       "      <td>45.0</td>\n",
       "      <td>Hylobates</td>\n",
       "      <td>1</td>\n",
       "    </tr>\n",
       "    <tr>\n",
       "      <th>1</th>\n",
       "      <td>54</td>\n",
       "      <td>50.91</td>\n",
       "      <td>93.9</td>\n",
       "      <td>61.82</td>\n",
       "      <td>13.09</td>\n",
       "      <td>75.0</td>\n",
       "      <td>121</td>\n",
       "      <td>20</td>\n",
       "      <td>54.0</td>\n",
       "      <td>Hylobates</td>\n",
       "      <td>1</td>\n",
       "    </tr>\n",
       "    <tr>\n",
       "      <th>2</th>\n",
       "      <td>54</td>\n",
       "      <td>46.15</td>\n",
       "      <td>80.8</td>\n",
       "      <td>64.10</td>\n",
       "      <td>11.80</td>\n",
       "      <td>70.0</td>\n",
       "      <td>120</td>\n",
       "      <td>25</td>\n",
       "      <td>61.0</td>\n",
       "      <td>Hylobates</td>\n",
       "      <td>1</td>\n",
       "    </tr>\n",
       "    <tr>\n",
       "      <th>3</th>\n",
       "      <td>54</td>\n",
       "      <td>70.29</td>\n",
       "      <td>220.5</td>\n",
       "      <td>50.00</td>\n",
       "      <td>12.75</td>\n",
       "      <td>61.1</td>\n",
       "      <td>113</td>\n",
       "      <td>12</td>\n",
       "      <td>45.0</td>\n",
       "      <td>Hylobates</td>\n",
       "      <td>1</td>\n",
       "    </tr>\n",
       "    <tr>\n",
       "      <th>4</th>\n",
       "      <td>54</td>\n",
       "      <td>63.16</td>\n",
       "      <td>144.0</td>\n",
       "      <td>57.89</td>\n",
       "      <td>12.98</td>\n",
       "      <td>64.9</td>\n",
       "      <td>115</td>\n",
       "      <td>14</td>\n",
       "      <td>46.0</td>\n",
       "      <td>Hylobates</td>\n",
       "      <td>1</td>\n",
       "    </tr>\n",
       "  </tbody>\n",
       "</table>\n",
       "</div>"
      ],
      "text/plain": [
       "   genus  AD.BD  AD.CD  EA.CD  Dx.CD  SH.ACR  EAD  beta  gamma      class  \\\n",
       "0     54  65.56  166.0  50.55  12.80    70.3  115    14   45.0  Hylobates   \n",
       "1     54  50.91   93.9  61.82  13.09    75.0  121    20   54.0  Hylobates   \n",
       "2     54  46.15   80.8  64.10  11.80    70.0  120    25   61.0  Hylobates   \n",
       "3     54  70.29  220.5  50.00  12.75    61.1  113    12   45.0  Hylobates   \n",
       "4     54  63.16  144.0  57.89  12.98    64.9  115    14   46.0  Hylobates   \n",
       "\n",
       "   classdigit  \n",
       "0           1  \n",
       "1           1  \n",
       "2           1  \n",
       "3           1  \n",
       "4           1  "
      ]
     },
     "execution_count": 114,
     "metadata": {},
     "output_type": "execute_result"
    }
   ],
   "source": [
    "primate_data.head()"
   ]
  },
  {
   "cell_type": "code",
   "execution_count": 40,
   "metadata": {},
   "outputs": [
    {
     "name": "stderr",
     "output_type": "stream",
     "text": [
      "C:\\Users\\piotr\\Anaconda3\\lib\\site-packages\\sklearn\\preprocessing\\data.py:334: DataConversionWarning: Data with input dtype int64, float64 were all converted to float64 by MinMaxScaler.\n",
      "  return self.partial_fit(X, y)\n"
     ]
    }
   ],
   "source": [
    "clustering_data = primate_data.drop([\"gamma\", \"class\", \"classdigit\"], axis = 1)\n",
    "scaler = MinMaxScaler()\n",
    "scaled_cluster_data = scaler.fit_transform(clustering_data)"
   ]
  },
  {
   "cell_type": "code",
   "execution_count": 41,
   "metadata": {},
   "outputs": [
    {
     "data": {
      "image/png": "[encoded data removed]",
      "text/plain": [
       "<Figure size 432x288 with 1 Axes>"
      ]
     },
     "metadata": {
      "needs_background": "light"
     },
     "output_type": "display_data"
    },
    {
     "data": {
      "image/png": "[encoded data removed]",
      "text/plain": [
       "<Figure size 432x288 with 1 Axes>"
      ]
     },
     "metadata": {
      "needs_background": "light"
     },
     "output_type": "display_data"
    },
    {
     "data": {
      "image/png": "[encoded data removed]",
      "text/plain": [
       "<Figure size 432x288 with 1 Axes>"
      ]
     },
     "metadata": {
      "needs_background": "light"
     },
     "output_type": "display_data"
    },
    {
     "data": {
      "image/png": "[encoded data removed]",
      "text/plain": [
       "<Figure size 432x288 with 1 Axes>"
      ]
     },
     "metadata": {
      "needs_background": "light"
     },
     "output_type": "display_data"
    }
   ],
   "source": [
    "color_list = [\"red\", \"sienna\", \"greenyellow\", \"mediumpurple\", \"midnightblue\", \"steelblue\", \"saddlebrown\", \"maroon\", \"peachpuff\",\"crimson\", \"dimgray\", \"lightcoral\",\"orange\", \"tan\", \"palegreen\", \"olive\", \"orchid\", \"rosybrown\", \"b\",\"thistle\"]\n",
    "\n",
    "for method in [\"single\",\"average\", \"ward\", \"complete\"]:\n",
    "    Z = linkage(scaled_cluster_data, method = method) \n",
    "    plt.figure()\n",
    "    plt.title(f\"{method} linkage\" )\n",
    "    set_link_color_palette([random.choice(color_list) for i in range(5)])\n",
    "    dendro = dendrogram(Z)\n",
    "    plt.show()"
   ]
  },
  {
   "cell_type": "markdown",
   "metadata": {},
   "source": [
    "Although amount of observations makes this being readable harder, we cann see that in case of single linkage we get outlier!\n",
    "\n",
    "**(b)** Find the five-cluster solutions for these methods. Construct confusion tables and compute the misclassification rate. Which method gives the lowest rate? Which gives the highest rate?\n",
    "\n",
    "This solution won't be pretty as class labels are assigned in heuristic way, so I will have to map them to get confusion matrices, and missclasification rates."
   ]
  },
  {
   "cell_type": "code",
   "execution_count": 42,
   "metadata": {},
   "outputs": [],
   "source": [
    "dictionary_of_labels = {}\n",
    "\n",
    "for method in [\"single\",\"average\", \"ward\", \"complete\"]:\n",
    "    cluster_model = AgglomerativeClustering(n_clusters = 5, linkage = method)\n",
    "    fitted_cluster_model = cluster_model.fit(scaled_cluster_data)\n",
    "    dictionary_of_labels[f\"{method} labels\"] = fitted_cluster_model.labels_ +1\n",
    "    \n",
    "correct_labels = np.array(primate_data[\"classdigit\"])"
   ]
  },
  {
   "cell_type": "code",
   "execution_count": 43,
   "metadata": {},
   "outputs": [
    {
     "data": {
      "text/html": [
       "<div>\n",
       "<style scoped>\n",
       "    .dataframe tbody tr th:only-of-type {\n",
       "        vertical-align: middle;\n",
       "    }\n",
       "\n",
       "    .dataframe tbody tr th {\n",
       "        vertical-align: top;\n",
       "    }\n",
       "\n",
       "    .dataframe thead th {\n",
       "        text-align: right;\n",
       "    }\n",
       "</style>\n",
       "<table border=\"1\" class=\"dataframe\">\n",
       "  <thead>\n",
       "    <tr style=\"text-align: right;\">\n",
       "      <th></th>\n",
       "      <th>class</th>\n",
       "      <th>classdigit</th>\n",
       "      <th>0</th>\n",
       "    </tr>\n",
       "  </thead>\n",
       "  <tbody>\n",
       "    <tr>\n",
       "      <th>0</th>\n",
       "      <td>Gorilla</td>\n",
       "      <td>4</td>\n",
       "      <td>14</td>\n",
       "    </tr>\n",
       "    <tr>\n",
       "      <th>1</th>\n",
       "      <td>Homo</td>\n",
       "      <td>5</td>\n",
       "      <td>40</td>\n",
       "    </tr>\n",
       "    <tr>\n",
       "      <th>2</th>\n",
       "      <td>Hylobates</td>\n",
       "      <td>1</td>\n",
       "      <td>16</td>\n",
       "    </tr>\n",
       "    <tr>\n",
       "      <th>3</th>\n",
       "      <td>Pan</td>\n",
       "      <td>3</td>\n",
       "      <td>20</td>\n",
       "    </tr>\n",
       "    <tr>\n",
       "      <th>4</th>\n",
       "      <td>Pongo</td>\n",
       "      <td>2</td>\n",
       "      <td>15</td>\n",
       "    </tr>\n",
       "  </tbody>\n",
       "</table>\n",
       "</div>"
      ],
      "text/plain": [
       "       class  classdigit   0\n",
       "0    Gorilla           4  14\n",
       "1       Homo           5  40\n",
       "2  Hylobates           1  16\n",
       "3        Pan           3  20\n",
       "4      Pongo           2  15"
      ]
     },
     "execution_count": 43,
     "metadata": {},
     "output_type": "execute_result"
    }
   ],
   "source": [
    "primate_data.groupby([\"class\", \"classdigit\"]).size().reset_index()"
   ]
  },
  {
   "cell_type": "code",
   "execution_count": 44,
   "metadata": {},
   "outputs": [
    {
     "data": {
      "text/plain": [
       "array(['hylobates', 'hylobates', 'hylobates', 'hylobates', 'hylobates',\n",
       "       'hylobates', 'hylobates', 'hylobates', 'hylobates', 'hylobates',\n",
       "       'hylobates', 'hylobates', 'hylobates', 'hylobates', 'hylobates',\n",
       "       'hylobates', 'pongo', 'pongo', 'pongo', 'pongo', 'pongo', 'pongo',\n",
       "       'pongo', 'pongo', 'pongo', 'pongo', 'pongo', 'pongo', 'pongo',\n",
       "       'pongo', 'pongo', 'pan', 'pan', 'pan', 'pan', 'pan', 'pan', 'pan',\n",
       "       'pan', 'pan', 'pan', 'pan', 'pan', 'pan', 'pan', 'pan', 'pan',\n",
       "       'pan', 'pan', 'pan', 'pan', 'gorilla', 'gorilla', 'gorilla',\n",
       "       'gorilla', 'gorilla', 'gorilla', 'gorilla', 'gorilla', 'gorilla',\n",
       "       'gorilla', 'gorilla', 'gorilla', 'gorilla', 'gorilla', 'homo',\n",
       "       'homo', 'homo', 'homo', 'homo', 'homo', 'homo', 'homo', 'homo',\n",
       "       'homo', 'homo', 'homo', 'homo', 'homo', 'homo', 'homo', 'homo',\n",
       "       'homo', 'homo', 'homo', 'homo', 'homo', 'homo', 'homo', 'homo',\n",
       "       'homo', 'homo', 'homo', 'homo', 'homo', 'homo', 'homo', 'homo',\n",
       "       'homo', 'homo', 'homo', 'homo', 'homo', 'homo', 'homo'],\n",
       "      dtype=object)"
      ]
     },
     "execution_count": 44,
     "metadata": {},
     "output_type": "execute_result"
    }
   ],
   "source": [
    "correct_labels_map = {4:\"gorilla\",5:\"homo\",1:\"hylobates\",3:'pan',2:\"pongo\"}\n",
    "correct_labels = np.array(pd.Series(correct_labels).map(correct_labels_map))\n",
    "correct_labels"
   ]
  },
  {
   "cell_type": "code",
   "execution_count": 45,
   "metadata": {},
   "outputs": [
    {
     "data": {
      "text/plain": [
       "array([3, 3, 3, 3, 3, 3, 3, 3, 3, 3, 3, 3, 3, 3, 3, 3, 1, 1, 1, 1, 1, 1,\n",
       "       1, 1, 1, 1, 1, 5, 1, 1, 1, 4, 4, 4, 4, 4, 4, 4, 4, 4, 4, 4, 4, 4,\n",
       "       4, 4, 4, 4, 4, 4, 4, 4, 4, 4, 4, 4, 4, 4, 4, 4, 4, 4, 4, 4, 4, 2,\n",
       "       2, 2, 2, 2, 2, 2, 2, 2, 2, 2, 2, 2, 2, 2, 2, 2, 2, 2, 2, 2, 2, 2,\n",
       "       2, 2, 2, 2, 2, 2, 2, 2, 2, 2, 2, 2, 2, 2, 2, 2, 2], dtype=int64)"
      ]
     },
     "execution_count": 45,
     "metadata": {},
     "output_type": "execute_result"
    }
   ],
   "source": [
    "single_labels = dictionary_of_labels[\"single labels\"]\n",
    "single_labels"
   ]
  },
  {
   "cell_type": "code",
   "execution_count": 46,
   "metadata": {},
   "outputs": [],
   "source": [
    "single_labels_map = {5:\"gorilla\",2:\"homo\",3:\"hylobates\",4:'pan',1:\"pongo\"}\n",
    "single_labels = np.array(pd.Series(single_labels).map(single_labels_map))"
   ]
  },
  {
   "cell_type": "code",
   "execution_count": 47,
   "metadata": {},
   "outputs": [
    {
     "data": {
      "text/plain": [
       "array([4, 4, 4, 4, 4, 4, 4, 4, 4, 4, 4, 4, 4, 4, 4, 4, 1, 1, 1, 1, 1, 1,\n",
       "       1, 1, 1, 1, 1, 1, 1, 1, 1, 3, 3, 3, 3, 3, 3, 3, 3, 3, 3, 3, 3, 3,\n",
       "       3, 3, 3, 3, 3, 3, 3, 3, 3, 3, 3, 3, 3, 3, 3, 3, 3, 3, 3, 3, 3, 2,\n",
       "       2, 2, 2, 2, 2, 2, 2, 5, 2, 2, 2, 2, 2, 2, 2, 2, 2, 2, 2, 2, 2, 2,\n",
       "       2, 2, 2, 5, 2, 2, 2, 2, 2, 2, 2, 2, 2, 5, 2, 2, 5], dtype=int64)"
      ]
     },
     "execution_count": 47,
     "metadata": {},
     "output_type": "execute_result"
    }
   ],
   "source": [
    "average_labels = dictionary_of_labels[\"average labels\"]\n",
    "average_labels"
   ]
  },
  {
   "cell_type": "code",
   "execution_count": 48,
   "metadata": {},
   "outputs": [],
   "source": [
    "average_labels_map = {5:\"gorilla\",2:\"homo\",4:\"hylobates\",3:'pan',1:\"pongo\"}\n",
    "average_labels = np.array(pd.Series(average_labels).map(average_labels_map))"
   ]
  },
  {
   "cell_type": "code",
   "execution_count": 49,
   "metadata": {},
   "outputs": [
    {
     "data": {
      "text/plain": [
       "array([3, 3, 3, 3, 3, 3, 3, 3, 3, 3, 3, 3, 3, 3, 3, 3, 4, 4, 4, 4, 4, 4,\n",
       "       4, 4, 4, 4, 4, 4, 4, 4, 4, 1, 1, 1, 1, 1, 1, 1, 1, 1, 1, 1, 1, 1,\n",
       "       1, 1, 1, 1, 1, 1, 1, 1, 1, 1, 1, 1, 1, 1, 1, 1, 1, 1, 1, 1, 1, 2,\n",
       "       2, 2, 2, 2, 2, 2, 5, 2, 5, 5, 2, 5, 5, 5, 2, 2, 5, 2, 2, 5, 5, 5,\n",
       "       2, 5, 2, 2, 2, 5, 2, 2, 2, 2, 2, 2, 5, 2, 2, 2, 2], dtype=int64)"
      ]
     },
     "execution_count": 49,
     "metadata": {},
     "output_type": "execute_result"
    }
   ],
   "source": [
    "ward_labels = dictionary_of_labels[\"ward labels\"]\n",
    "ward_labels"
   ]
  },
  {
   "cell_type": "code",
   "execution_count": 50,
   "metadata": {},
   "outputs": [],
   "source": [
    "ward_labels_map = {5:\"gorilla\",2:\"homo\",3:\"hylobates\",1:'pan',4:\"pongo\"}\n",
    "ward_labels = np.array(pd.Series(ward_labels).map(ward_labels_map))"
   ]
  },
  {
   "cell_type": "code",
   "execution_count": 51,
   "metadata": {},
   "outputs": [
    {
     "data": {
      "text/plain": [
       "array([1, 1, 1, 1, 1, 1, 1, 1, 1, 1, 1, 1, 1, 1, 1, 1, 3, 3, 3, 3, 3, 3,\n",
       "       3, 3, 3, 3, 3, 3, 3, 3, 3, 4, 4, 4, 4, 4, 4, 4, 4, 4, 4, 4, 4, 4,\n",
       "       4, 4, 4, 4, 4, 4, 4, 4, 4, 4, 4, 4, 4, 4, 4, 4, 4, 4, 4, 4, 4, 2,\n",
       "       2, 2, 2, 2, 2, 2, 5, 2, 5, 5, 2, 5, 5, 5, 2, 2, 5, 2, 2, 5, 5, 5,\n",
       "       2, 5, 2, 2, 2, 5, 2, 2, 2, 2, 2, 2, 5, 2, 2, 2, 2], dtype=int64)"
      ]
     },
     "execution_count": 51,
     "metadata": {},
     "output_type": "execute_result"
    }
   ],
   "source": [
    "complete_labels = dictionary_of_labels[\"complete labels\"]\n",
    "complete_labels"
   ]
  },
  {
   "cell_type": "code",
   "execution_count": 52,
   "metadata": {},
   "outputs": [],
   "source": [
    "complete_labels_map = {5:\"gorilla\",2:\"homo\",1:\"hylobates\",4:'pan',3:\"pongo\"}\n",
    "complete_labels = np.array(pd.Series(complete_labels).map(complete_labels_map))"
   ]
  },
  {
   "cell_type": "code",
   "execution_count": 56,
   "metadata": {},
   "outputs": [
    {
     "name": "stdout",
     "output_type": "stream",
     "text": [
      "single linkage measures: \n",
      " Misclassification rate = 0.1428571428571429\n"
     ]
    },
    {
     "data": {
      "image/png": "[encoded data removed]",
      "text/plain": [
       "<Figure size 432x288 with 2 Axes>"
      ]
     },
     "metadata": {},
     "output_type": "display_data"
    },
    {
     "name": "stdout",
     "output_type": "stream",
     "text": [
      "average linkage measures: \n",
      " Misclassification rate = 0.17142857142857137\n"
     ]
    },
    {
     "data": {
      "image/png": "[encoded data removed]",
      "text/plain": [
       "<Figure size 432x288 with 2 Axes>"
      ]
     },
     "metadata": {},
     "output_type": "display_data"
    },
    {
     "name": "stdout",
     "output_type": "stream",
     "text": [
      "complete linkage measures: \n",
      " Misclassification rate = 0.2571428571428571\n"
     ]
    },
    {
     "data": {
      "image/png": "[encoded data removed]",
      "text/plain": [
       "<Figure size 432x288 with 2 Axes>"
      ]
     },
     "metadata": {},
     "output_type": "display_data"
    },
    {
     "name": "stdout",
     "output_type": "stream",
     "text": [
      "ward linkage measures: \n",
      " Misclassification rate = 0.2571428571428571\n"
     ]
    },
    {
     "data": {
      "image/png": "[encoded data removed]",
      "text/plain": [
       "<Figure size 432x288 with 2 Axes>"
      ]
     },
     "metadata": {},
     "output_type": "display_data"
    }
   ],
   "source": [
    "method_dict = {\"single\": single_labels, \"average\": average_labels, \"complete\": complete_labels, \"ward\": ward_labels}\n",
    "\n",
    "for method_name, labels in method_dict.items():\n",
    "    print(f\"{method_name} linkage measures: \\n Misclassification rate = {1-np.mean(labels==correct_labels)}\")\n",
    "    array = confusion_matrix(correct_labels, labels)\n",
    "    df_cm = pd.DataFrame(array, range(5), range(5))\n",
    "    # plt.figure(figsize=(10,7))\n",
    "    sn.set(font_scale=1.4) # for label size\n",
    "    sn.heatmap(df_cm, annot=True, annot_kws={\"size\": 16}) # font size\n",
    "    plt.xlabel('confusion_matrix')\n",
    "    plt.show()"
   ]
  },
  {
   "cell_type": "markdown",
   "metadata": {},
   "source": [
    "Unfortunately above solution isn't as pretty as previous one, but I couldn't find a way to optimize(in non-manual way) changing label indices.\n",
    "\n",
    "Interestingly gorillas were never predicted right. But as we can see, single linkage performed the best, with both ward and complete performing EXACTLY the same(the worst). Worth noting is that all cluster labels achieved via different clustering techniques, aren't representing the same class names, as in case of \"classdigit\" in original dataframe. Those label conversions seen above are just my interpretations of what class would given label describe.\n",
    "\n",
    "**Excercise 5**\n",
    "\n",
    "Consider again the data in the file primate.scapulae.txt in the course data directory; now the object is to carry out discriminant function analysis. Carry out five linear discriminant analyses (one for each primate species), where each analysis is of the form ‘one class versus the rest’. Find the spatial zone (known as the ambiguous region) that does not correspond to any LDA assignment of a class of primate (out of the five considered).\n",
    "\n",
    "Suppose that LDA boundaries are found for the primate.scapulae data by carrying out a sequence of $$\n",
    "\\left(\\begin{array}{l}{5} \\\\ {2}\\end{array}\\right)=10\n",
    "$$ LDA problems, each involving a distinct pair of primate species. Find the ambigous region that does not correspond to any LDA assignment of a class of primate (out of the five considered). Suppose we classify each primate in the data set by taking a vote based upon these boundaries. Estimate the resulting misclassification rate and compare it with the rate from the multi-class classification procedure.\n",
    "\n",
    "**Solution starts here**\n",
    "\n",
    "This task isn't easy, as plotting decision boundaries for singular LDA without implementing them myself is very difficult. Then making them overlap, and indicating which space belongs to which class after prediction, is even worse. This task exceeds my knowledge and skills to use either matplotlib or ggplot to solve it.\n",
    "\n",
    "Below solution uses in-built python LDA function, which when I've read through documentation I couldn't understand if it is either OvA or OvO algorithm. So additionally I've added OvR classifier from scikit learn."
   ]
  },
  {
   "cell_type": "code",
   "execution_count": 3,
   "metadata": {},
   "outputs": [
    {
     "data": {
      "text/html": [
       "<div>\n",
       "<style scoped>\n",
       "    .dataframe tbody tr th:only-of-type {\n",
       "        vertical-align: middle;\n",
       "    }\n",
       "\n",
       "    .dataframe tbody tr th {\n",
       "        vertical-align: top;\n",
       "    }\n",
       "\n",
       "    .dataframe thead th {\n",
       "        text-align: right;\n",
       "    }\n",
       "</style>\n",
       "<table border=\"1\" class=\"dataframe\">\n",
       "  <thead>\n",
       "    <tr style=\"text-align: right;\">\n",
       "      <th></th>\n",
       "      <th>genus</th>\n",
       "      <th>AD.BD</th>\n",
       "      <th>AD.CD</th>\n",
       "      <th>EA.CD</th>\n",
       "      <th>Dx.CD</th>\n",
       "      <th>SH.ACR</th>\n",
       "      <th>EAD</th>\n",
       "      <th>beta</th>\n",
       "      <th>gamma</th>\n",
       "      <th>class</th>\n",
       "      <th>classdigit</th>\n",
       "    </tr>\n",
       "  </thead>\n",
       "  <tbody>\n",
       "    <tr>\n",
       "      <th>0</th>\n",
       "      <td>54</td>\n",
       "      <td>65.56</td>\n",
       "      <td>166.0</td>\n",
       "      <td>50.55</td>\n",
       "      <td>12.80</td>\n",
       "      <td>70.3</td>\n",
       "      <td>115</td>\n",
       "      <td>14</td>\n",
       "      <td>45.0</td>\n",
       "      <td>Hylobates</td>\n",
       "      <td>1</td>\n",
       "    </tr>\n",
       "    <tr>\n",
       "      <th>1</th>\n",
       "      <td>54</td>\n",
       "      <td>50.91</td>\n",
       "      <td>93.9</td>\n",
       "      <td>61.82</td>\n",
       "      <td>13.09</td>\n",
       "      <td>75.0</td>\n",
       "      <td>121</td>\n",
       "      <td>20</td>\n",
       "      <td>54.0</td>\n",
       "      <td>Hylobates</td>\n",
       "      <td>1</td>\n",
       "    </tr>\n",
       "    <tr>\n",
       "      <th>2</th>\n",
       "      <td>54</td>\n",
       "      <td>46.15</td>\n",
       "      <td>80.8</td>\n",
       "      <td>64.10</td>\n",
       "      <td>11.80</td>\n",
       "      <td>70.0</td>\n",
       "      <td>120</td>\n",
       "      <td>25</td>\n",
       "      <td>61.0</td>\n",
       "      <td>Hylobates</td>\n",
       "      <td>1</td>\n",
       "    </tr>\n",
       "    <tr>\n",
       "      <th>3</th>\n",
       "      <td>54</td>\n",
       "      <td>70.29</td>\n",
       "      <td>220.5</td>\n",
       "      <td>50.00</td>\n",
       "      <td>12.75</td>\n",
       "      <td>61.1</td>\n",
       "      <td>113</td>\n",
       "      <td>12</td>\n",
       "      <td>45.0</td>\n",
       "      <td>Hylobates</td>\n",
       "      <td>1</td>\n",
       "    </tr>\n",
       "    <tr>\n",
       "      <th>4</th>\n",
       "      <td>54</td>\n",
       "      <td>63.16</td>\n",
       "      <td>144.0</td>\n",
       "      <td>57.89</td>\n",
       "      <td>12.98</td>\n",
       "      <td>64.9</td>\n",
       "      <td>115</td>\n",
       "      <td>14</td>\n",
       "      <td>46.0</td>\n",
       "      <td>Hylobates</td>\n",
       "      <td>1</td>\n",
       "    </tr>\n",
       "  </tbody>\n",
       "</table>\n",
       "</div>"
      ],
      "text/plain": [
       "   genus  AD.BD  AD.CD  EA.CD  Dx.CD  SH.ACR  EAD  beta  gamma      class  \\\n",
       "0     54  65.56  166.0  50.55  12.80    70.3  115    14   45.0  Hylobates   \n",
       "1     54  50.91   93.9  61.82  13.09    75.0  121    20   54.0  Hylobates   \n",
       "2     54  46.15   80.8  64.10  11.80    70.0  120    25   61.0  Hylobates   \n",
       "3     54  70.29  220.5  50.00  12.75    61.1  113    12   45.0  Hylobates   \n",
       "4     54  63.16  144.0  57.89  12.98    64.9  115    14   46.0  Hylobates   \n",
       "\n",
       "   classdigit  \n",
       "0           1  \n",
       "1           1  \n",
       "2           1  \n",
       "3           1  \n",
       "4           1  "
      ]
     },
     "execution_count": 3,
     "metadata": {},
     "output_type": "execute_result"
    }
   ],
   "source": [
    "primate_data.head()"
   ]
  },
  {
   "cell_type": "code",
   "execution_count": 28,
   "metadata": {},
   "outputs": [],
   "source": [
    "from sklearn.multiclass import OneVsRestClassifier\n",
    "from sklearn.discriminant_analysis import LinearDiscriminantAnalysis\n",
    "from sklearn.preprocessing import LabelEncoder"
   ]
  },
  {
   "cell_type": "code",
   "execution_count": 29,
   "metadata": {},
   "outputs": [],
   "source": [
    "x_primate = primate_data.drop([\"genus\",\"classdigit\", \"class\", \"gamma\"], axis = 1)\n",
    "y_primate = primate_data[\"classdigit\"]"
   ]
  },
  {
   "cell_type": "code",
   "execution_count": 36,
   "metadata": {},
   "outputs": [
    {
     "name": "stdout",
     "output_type": "stream",
     "text": [
      "Misclassification rate = 0.04761904761904767\n"
     ]
    }
   ],
   "source": [
    "OvR_classifier = OneVsRestClassifier(LinearDiscriminantAnalysis(), n_jobs = -1).fit(x_primate,y_primate)\n",
    "predicted_OvR_classes = OvR_classifier.predict(x_primate)\n",
    "\n",
    "print(f\"Misclassification rate = {1-np.mean(predicted_OvR_classes==y_primate)}\")"
   ]
  },
  {
   "cell_type": "markdown",
   "metadata": {},
   "source": [
    "I understand that LDA should decrease dimensionality of my data, and therefore allow me to plot the 2D version. But above scikit class doesn't have fit_transform method, so I can't get the value in a transformed space.\n",
    "\n",
    "All I can tell is that the misclassification happens, and surely there are some classes overlapping. I can analyze it further by checking confusion matrix:"
   ]
  },
  {
   "cell_type": "code",
   "execution_count": 37,
   "metadata": {},
   "outputs": [
    {
     "name": "stdout",
     "output_type": "stream",
     "text": [
      "Confusion matrix: \n",
      " [[16  0  0  0  0]\n",
      " [ 0 15  0  0  0]\n",
      " [ 0  0 20  0  0]\n",
      " [ 0  0  5  9  0]\n",
      " [ 0  0  0  0 40]]\n"
     ]
    }
   ],
   "source": [
    "from sklearn.metrics import confusion_matrix\n",
    "print(f\"Confusion matrix: \\n {confusion_matrix(y_primate, predicted_OvR_classes)}\")"
   ]
  },
  {
   "cell_type": "markdown",
   "metadata": {},
   "source": [
    "So there are some misclassifications between 3rd and 4th class. Let's use some of Python's API to plot how it could have happened:"
   ]
  },
  {
   "cell_type": "code",
   "execution_count": 31,
   "metadata": {},
   "outputs": [
    {
     "data": {
      "image/png": "[encoded data removed]",
      "text/plain": [
       "<Figure size 432x288 with 1 Axes>"
      ]
     },
     "metadata": {
      "needs_background": "light"
     },
     "output_type": "display_data"
    }
   ],
   "source": [
    "lda = LinearDiscriminantAnalysis()\n",
    "X_lda = lda.fit_transform(x_primate, y_primate)\n",
    "\n",
    "plt.xlabel('LD1')\n",
    "plt.ylabel('LD2')\n",
    "plt.scatter(\n",
    "    X_lda[:,0],\n",
    "    X_lda[:,1],\n",
    "    c=y_primate,\n",
    "    cmap='rainbow',\n",
    "    alpha=0.7,\n",
    "    edgecolors='b'\n",
    ")\n",
    "plt.show()"
   ]
  },
  {
   "cell_type": "markdown",
   "metadata": {},
   "source": [
    "So in this case even without the decision boundaries, I would expect the center of this plot to be ambigous region. This region would be a point in the set where our algorithm wouldn't be sure which class it would choose.\n",
    "\n",
    "So in general in OvR as we only have 5 decision boundaries, we would have bigger ambigous region, as we have a space sliced into quite chunky polygons.\n",
    "\n",
    "In case of OvO those polygons would be a lot smaller, so those ambigous regions would be in few smaller regions. I will try and illustrate it, but we need to take those plots with a grain of salt, as I've made them manually, and are only used to show intuition.\n",
    "\n",
    "**OvR**:"
   ]
  },
  {
   "attachments": {
    "ehhhh.JPG": {
     "image/jpeg": "[encoded data removed]"
    }
   },
   "cell_type": "markdown",
   "metadata": {},
   "source": [
    "![ehhhh.JPG](attachment:ehhhh.JPG)"
   ]
  },
  {
   "cell_type": "markdown",
   "metadata": {},
   "source": [
    "**OvO**:"
   ]
  },
  {
   "attachments": {
    "lolol.JPG": {
     "image/jpeg": "[encoded data removed]"
    }
   },
   "cell_type": "markdown",
   "metadata": {},
   "source": [
    "![lolol.JPG](attachment:lolol.JPG)"
   ]
  },
  {
   "cell_type": "markdown",
   "metadata": {},
   "source": [
    "These two plots aren't really readable, but what should be taken away, that ambigous region for OvO, should be way smaller if we look at the sub-polygons in the above space. I would expect one of those in the center to be the ambigous region.\n",
    "\n",
    "While in case of OvR above, I'd expect polygon marked with red A to be ambigous region.\n",
    "\n",
    "But as I mentioned. Those should be taken with a grain of salt as those plots of the classes in 2d space, aren't really representative of OvO and OvR solutions, and are just their approximations."
   ]
  }
 ],
 "metadata": {
  "kernelspec": {
   "display_name": "Python 3",
   "language": "python",
   "name": "python3"
  },
  "language_info": {
   "codemirror_mode": {
    "name": "ipython",
    "version": 3
   },
   "file_extension": ".py",
   "mimetype": "text/x-python",
   "name": "python",
   "nbconvert_exporter": "python",
   "pygments_lexer": "ipython3",
   "version": "3.7.3"
  }
 },
 "nbformat": 4,
 "nbformat_minor": 2
}
