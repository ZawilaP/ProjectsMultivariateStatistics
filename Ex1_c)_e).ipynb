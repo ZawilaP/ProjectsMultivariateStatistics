{
 "cells": [
  {
   "cell_type": "markdown",
   "metadata": {},
   "source": [
    "**(c)** Perform Forwards Stepwise and Backward Elimination procedures. What are the resulting models?"
   ]
  },
  {
   "cell_type": "code",
   "execution_count": 1,
   "metadata": {},
   "outputs": [],
   "source": [
    "library(MASS)"
   ]
  },
  {
   "cell_type": "code",
   "execution_count": 12,
   "metadata": {},
   "outputs": [],
   "source": [
    "bodyfat_data = read.csv(\"C:/Users/piotr/Desktop/Exam_Multivariate/bodyfat2.csv\")"
   ]
  },
  {
   "cell_type": "code",
   "execution_count": 20,
   "metadata": {},
   "outputs": [
    {
     "data": {
      "text/plain": [
       "\n",
       "Call:\n",
       "lm(formula = bodyfat ~ age + weight + neck + abdomen + hip + \n",
       "    thigh + forearm + wrist, data = bodyfat_data)\n",
       "\n",
       "Residuals:\n",
       "     Min       1Q   Median       3Q      Max \n",
       "-10.9757  -2.9937  -0.1644   2.9766  10.2244 \n",
       "\n",
       "Coefficients:\n",
       "             Estimate Std. Error t value Pr(>|t|)    \n",
       "(Intercept) -22.65637   11.71385  -1.934  0.05426 .  \n",
       "age           0.06578    0.03078   2.137  0.03356 *  \n",
       "weight       -0.08985    0.03991  -2.252  0.02524 *  \n",
       "neck         -0.46656    0.22462  -2.077  0.03884 *  \n",
       "abdomen       0.94482    0.07193  13.134  < 2e-16 ***\n",
       "hip          -0.19543    0.13847  -1.411  0.15940    \n",
       "thigh         0.30239    0.12904   2.343  0.01992 *  \n",
       "forearm       0.51572    0.18631   2.768  0.00607 ** \n",
       "wrist        -1.53665    0.50939  -3.017  0.00283 ** \n",
       "---\n",
       "Signif. codes:  0 '***' 0.001 '**' 0.01 '*' 0.05 '.' 0.1 ' ' 1\n",
       "\n",
       "Residual standard error: 4.282 on 243 degrees of freedom\n",
       "Multiple R-squared:  0.7466,\tAdjusted R-squared:  0.7382 \n",
       "F-statistic: 89.47 on 8 and 243 DF,  p-value: < 2.2e-16\n"
      ]
     },
     "metadata": {},
     "output_type": "display_data"
    },
    {
     "data": {
      "text/plain": [
       "\n",
       "Call:\n",
       "lm(formula = bodyfat ~ abdomen + weight + wrist + forearm + neck + \n",
       "    age + thigh + hip, data = bodyfat_data)\n",
       "\n",
       "Residuals:\n",
       "     Min       1Q   Median       3Q      Max \n",
       "-10.9757  -2.9937  -0.1644   2.9766  10.2244 \n",
       "\n",
       "Coefficients:\n",
       "             Estimate Std. Error t value Pr(>|t|)    \n",
       "(Intercept) -22.65637   11.71385  -1.934  0.05426 .  \n",
       "abdomen       0.94482    0.07193  13.134  < 2e-16 ***\n",
       "weight       -0.08985    0.03991  -2.252  0.02524 *  \n",
       "wrist        -1.53665    0.50939  -3.017  0.00283 ** \n",
       "forearm       0.51572    0.18631   2.768  0.00607 ** \n",
       "neck         -0.46656    0.22462  -2.077  0.03884 *  \n",
       "age           0.06578    0.03078   2.137  0.03356 *  \n",
       "thigh         0.30239    0.12904   2.343  0.01992 *  \n",
       "hip          -0.19543    0.13847  -1.411  0.15940    \n",
       "---\n",
       "Signif. codes:  0 '***' 0.001 '**' 0.01 '*' 0.05 '.' 0.1 ' ' 1\n",
       "\n",
       "Residual standard error: 4.282 on 243 degrees of freedom\n",
       "Multiple R-squared:  0.7466,\tAdjusted R-squared:  0.7382 \n",
       "F-statistic: 89.47 on 8 and 243 DF,  p-value: < 2.2e-16\n"
      ]
     },
     "metadata": {},
     "output_type": "display_data"
    }
   ],
   "source": [
    "# Fit the full model \n",
    "full_model <- lm(bodyfat ~. - density, data = bodyfat_data)\n",
    "# Stepwise regression model\n",
    "backward_model <- step(full_model, direction = \"backward\", \n",
    "                      trace = FALSE)\n",
    "\n",
    "min_model = lm(bodyfat ~ 1, data = bodyfat_data)\n",
    "\n",
    "forward_model <- step(min_model, direction = \"forward\", \n",
    "                      trace = FALSE, scope = ~age + weight + height + neck + chest + abdomen + hip + thigh + knee + ankle + biceps + forearm + wrist)\n",
    "\n",
    "summary(backward_model)\n",
    "summary(forward_model)"
   ]
  },
  {
   "cell_type": "markdown",
   "metadata": {},
   "source": [
    "Which gives for FSS:\n",
    "\n",
    "**age + weight + neck + abdomen + hip + thigh + forearm + wrist**\n",
    "\n",
    "And for BSS:\n",
    "\n",
    "**abdomen + weight + wrist + forearm + neck + age + thigh + hip**\n",
    "\n",
    "**(e)** Apply LASSO to the bodyfat data set. Indicate the LASSO path and decide on a suitable model. Justify your choice."
   ]
  },
  {
   "cell_type": "code",
   "execution_count": 26,
   "metadata": {},
   "outputs": [],
   "source": [
    "library(glmnet)\n",
    "x = data.matrix(bodyfat_data[,-c(1,2)])\n",
    "y = bodyfat_data$bodyfat"
   ]
  },
  {
   "cell_type": "code",
   "execution_count": 27,
   "metadata": {},
   "outputs": [],
   "source": [
    "lasso_model = glmnet(x, y, alpha = 1)"
   ]
  },
  {
   "cell_type": "code",
   "execution_count": 29,
   "metadata": {},
   "outputs": [
    {
     "data": {
      "image/png": "[encoded data removed]",
      "text/plain": [
       "plot without title"
      ]
     },
     "metadata": {},
     "output_type": "display_data"
    }
   ],
   "source": [
    "plot(lasso_model)"
   ]
  },
  {
   "cell_type": "code",
   "execution_count": 41,
   "metadata": {},
   "outputs": [
    {
     "data": {
      "text/html": [
       "0.03"
      ],
      "text/latex": [
       "0.03"
      ],
      "text/markdown": [
       "0.03"
      ],
      "text/plain": [
       "[1] 0.03"
      ]
     },
     "metadata": {},
     "output_type": "display_data"
    }
   ],
   "source": [
    "lambdas = seq(0, 1, by = 0.01)\n",
    "lasso_cv = cv.glmnet(x, y, alpha = 1, lambda = lambdas)\n",
    "lasso_cv$lambda.min\n",
    "best_lasso = glmnet(x, y, alpha = 1, lambda = lasso_cv$lambda.min)"
   ]
  },
  {
   "cell_type": "code",
   "execution_count": 42,
   "metadata": {},
   "outputs": [
    {
     "data": {
      "text/plain": [
       "14 x 1 sparse Matrix of class \"dgCMatrix\"\n",
       "                      s0\n",
       "(Intercept) -15.24541033\n",
       "age           0.06363330\n",
       "weight       -0.07074667\n",
       "height       -0.09974219\n",
       "neck         -0.45864705\n",
       "chest         .         \n",
       "abdomen       0.89318726\n",
       "hip          -0.14550317\n",
       "thigh         0.19001795\n",
       "knee          .         \n",
       "ankle         0.10287414\n",
       "biceps        0.13360216\n",
       "forearm       0.41736080\n",
       "wrist        -1.61479034"
      ]
     },
     "metadata": {},
     "output_type": "display_data"
    }
   ],
   "source": [
    "coef(best_lasso)"
   ]
  },
  {
   "cell_type": "markdown",
   "metadata": {},
   "source": [
    "So using above logic I would just remove **chest** and **knee** from the model. Although I do expect this model to overfit, so maybe choosing model with only 4 or 6 features would be better."
   ]
  },
  {
   "cell_type": "code",
   "execution_count": null,
   "metadata": {},
   "outputs": [],
   "source": []
  }
 ],
 "metadata": {
  "kernelspec": {
   "display_name": "R",
   "language": "R",
   "name": "ir"
  },
  "language_info": {
   "codemirror_mode": "r",
   "file_extension": ".r",
   "mimetype": "text/x-r-source",
   "name": "R",
   "pygments_lexer": "r",
   "version": "3.6.1"
  }
 },
 "nbformat": 4,
 "nbformat_minor": 2
}
